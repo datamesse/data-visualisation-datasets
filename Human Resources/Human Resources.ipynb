{
 "cells": [
  {
   "cell_type": "markdown",
   "id": "0cf40dd2",
   "metadata": {},
   "source": [
    "# Human Resources\n",
    "\n",
    "This presumably fictional dataset is from Kaggle by Professor Rich Huebner:\n",
    "\n",
    "* https://www.kaggle.com/datasets/rhuebner/human-resources-data-set\n",
    "\n",
    "Version 14 is used.\n",
    "\n",
    "Here I go into depth on my data cleaning and my business analytical approach in converting this data into actionable insights. Skip to the **\"Data exploration\"** section for the latter."
   ]
  },
  {
   "cell_type": "code",
   "execution_count": 1,
   "id": "de87c226",
   "metadata": {},
   "outputs": [
    {
     "data": {
      "text/html": [
       "<div>\n",
       "<style scoped>\n",
       "    .dataframe tbody tr th:only-of-type {\n",
       "        vertical-align: middle;\n",
       "    }\n",
       "\n",
       "    .dataframe tbody tr th {\n",
       "        vertical-align: top;\n",
       "    }\n",
       "\n",
       "    .dataframe thead th {\n",
       "        text-align: right;\n",
       "    }\n",
       "</style>\n",
       "<table border=\"1\" class=\"dataframe\">\n",
       "  <thead>\n",
       "    <tr style=\"text-align: right;\">\n",
       "      <th></th>\n",
       "      <th>Employee_Name</th>\n",
       "      <th>EmpID</th>\n",
       "      <th>MarriedID</th>\n",
       "      <th>MaritalStatusID</th>\n",
       "      <th>GenderID</th>\n",
       "      <th>EmpStatusID</th>\n",
       "      <th>DeptID</th>\n",
       "      <th>PerfScoreID</th>\n",
       "      <th>FromDiversityJobFairID</th>\n",
       "      <th>Salary</th>\n",
       "      <th>...</th>\n",
       "      <th>ManagerName</th>\n",
       "      <th>ManagerID</th>\n",
       "      <th>RecruitmentSource</th>\n",
       "      <th>PerformanceScore</th>\n",
       "      <th>EngagementSurvey</th>\n",
       "      <th>EmpSatisfaction</th>\n",
       "      <th>SpecialProjectsCount</th>\n",
       "      <th>LastPerformanceReview_Date</th>\n",
       "      <th>DaysLateLast30</th>\n",
       "      <th>Absences</th>\n",
       "    </tr>\n",
       "  </thead>\n",
       "  <tbody>\n",
       "    <tr>\n",
       "      <th>0</th>\n",
       "      <td>Adinolfi, Wilson  K</td>\n",
       "      <td>10026</td>\n",
       "      <td>0</td>\n",
       "      <td>0</td>\n",
       "      <td>1</td>\n",
       "      <td>1</td>\n",
       "      <td>5</td>\n",
       "      <td>4</td>\n",
       "      <td>0</td>\n",
       "      <td>62506</td>\n",
       "      <td>...</td>\n",
       "      <td>Michael Albert</td>\n",
       "      <td>22.0</td>\n",
       "      <td>LinkedIn</td>\n",
       "      <td>Exceeds</td>\n",
       "      <td>4.60</td>\n",
       "      <td>5</td>\n",
       "      <td>0</td>\n",
       "      <td>1/17/2019</td>\n",
       "      <td>0</td>\n",
       "      <td>1</td>\n",
       "    </tr>\n",
       "    <tr>\n",
       "      <th>1</th>\n",
       "      <td>Ait Sidi, Karthikeyan</td>\n",
       "      <td>10084</td>\n",
       "      <td>1</td>\n",
       "      <td>1</td>\n",
       "      <td>1</td>\n",
       "      <td>5</td>\n",
       "      <td>3</td>\n",
       "      <td>3</td>\n",
       "      <td>0</td>\n",
       "      <td>104437</td>\n",
       "      <td>...</td>\n",
       "      <td>Simon Roup</td>\n",
       "      <td>4.0</td>\n",
       "      <td>Indeed</td>\n",
       "      <td>Fully Meets</td>\n",
       "      <td>4.96</td>\n",
       "      <td>3</td>\n",
       "      <td>6</td>\n",
       "      <td>2/24/2016</td>\n",
       "      <td>0</td>\n",
       "      <td>17</td>\n",
       "    </tr>\n",
       "    <tr>\n",
       "      <th>2</th>\n",
       "      <td>Akinkuolie, Sarah</td>\n",
       "      <td>10196</td>\n",
       "      <td>1</td>\n",
       "      <td>1</td>\n",
       "      <td>0</td>\n",
       "      <td>5</td>\n",
       "      <td>5</td>\n",
       "      <td>3</td>\n",
       "      <td>0</td>\n",
       "      <td>64955</td>\n",
       "      <td>...</td>\n",
       "      <td>Kissy Sullivan</td>\n",
       "      <td>20.0</td>\n",
       "      <td>LinkedIn</td>\n",
       "      <td>Fully Meets</td>\n",
       "      <td>3.02</td>\n",
       "      <td>3</td>\n",
       "      <td>0</td>\n",
       "      <td>5/15/2012</td>\n",
       "      <td>0</td>\n",
       "      <td>3</td>\n",
       "    </tr>\n",
       "    <tr>\n",
       "      <th>3</th>\n",
       "      <td>Alagbe,Trina</td>\n",
       "      <td>10088</td>\n",
       "      <td>1</td>\n",
       "      <td>1</td>\n",
       "      <td>0</td>\n",
       "      <td>1</td>\n",
       "      <td>5</td>\n",
       "      <td>3</td>\n",
       "      <td>0</td>\n",
       "      <td>64991</td>\n",
       "      <td>...</td>\n",
       "      <td>Elijiah Gray</td>\n",
       "      <td>16.0</td>\n",
       "      <td>Indeed</td>\n",
       "      <td>Fully Meets</td>\n",
       "      <td>4.84</td>\n",
       "      <td>5</td>\n",
       "      <td>0</td>\n",
       "      <td>1/3/2019</td>\n",
       "      <td>0</td>\n",
       "      <td>15</td>\n",
       "    </tr>\n",
       "    <tr>\n",
       "      <th>4</th>\n",
       "      <td>Anderson, Carol</td>\n",
       "      <td>10069</td>\n",
       "      <td>0</td>\n",
       "      <td>2</td>\n",
       "      <td>0</td>\n",
       "      <td>5</td>\n",
       "      <td>5</td>\n",
       "      <td>3</td>\n",
       "      <td>0</td>\n",
       "      <td>50825</td>\n",
       "      <td>...</td>\n",
       "      <td>Webster Butler</td>\n",
       "      <td>39.0</td>\n",
       "      <td>Google Search</td>\n",
       "      <td>Fully Meets</td>\n",
       "      <td>5.00</td>\n",
       "      <td>4</td>\n",
       "      <td>0</td>\n",
       "      <td>2/1/2016</td>\n",
       "      <td>0</td>\n",
       "      <td>2</td>\n",
       "    </tr>\n",
       "    <tr>\n",
       "      <th>...</th>\n",
       "      <td>...</td>\n",
       "      <td>...</td>\n",
       "      <td>...</td>\n",
       "      <td>...</td>\n",
       "      <td>...</td>\n",
       "      <td>...</td>\n",
       "      <td>...</td>\n",
       "      <td>...</td>\n",
       "      <td>...</td>\n",
       "      <td>...</td>\n",
       "      <td>...</td>\n",
       "      <td>...</td>\n",
       "      <td>...</td>\n",
       "      <td>...</td>\n",
       "      <td>...</td>\n",
       "      <td>...</td>\n",
       "      <td>...</td>\n",
       "      <td>...</td>\n",
       "      <td>...</td>\n",
       "      <td>...</td>\n",
       "      <td>...</td>\n",
       "    </tr>\n",
       "    <tr>\n",
       "      <th>306</th>\n",
       "      <td>Woodson, Jason</td>\n",
       "      <td>10135</td>\n",
       "      <td>0</td>\n",
       "      <td>0</td>\n",
       "      <td>1</td>\n",
       "      <td>1</td>\n",
       "      <td>5</td>\n",
       "      <td>3</td>\n",
       "      <td>0</td>\n",
       "      <td>65893</td>\n",
       "      <td>...</td>\n",
       "      <td>Kissy Sullivan</td>\n",
       "      <td>20.0</td>\n",
       "      <td>LinkedIn</td>\n",
       "      <td>Fully Meets</td>\n",
       "      <td>4.07</td>\n",
       "      <td>4</td>\n",
       "      <td>0</td>\n",
       "      <td>2/28/2019</td>\n",
       "      <td>0</td>\n",
       "      <td>13</td>\n",
       "    </tr>\n",
       "    <tr>\n",
       "      <th>307</th>\n",
       "      <td>Ybarra, Catherine</td>\n",
       "      <td>10301</td>\n",
       "      <td>0</td>\n",
       "      <td>0</td>\n",
       "      <td>0</td>\n",
       "      <td>5</td>\n",
       "      <td>5</td>\n",
       "      <td>1</td>\n",
       "      <td>0</td>\n",
       "      <td>48513</td>\n",
       "      <td>...</td>\n",
       "      <td>Brannon Miller</td>\n",
       "      <td>12.0</td>\n",
       "      <td>Google Search</td>\n",
       "      <td>PIP</td>\n",
       "      <td>3.20</td>\n",
       "      <td>2</td>\n",
       "      <td>0</td>\n",
       "      <td>9/2/2015</td>\n",
       "      <td>5</td>\n",
       "      <td>4</td>\n",
       "    </tr>\n",
       "    <tr>\n",
       "      <th>308</th>\n",
       "      <td>Zamora, Jennifer</td>\n",
       "      <td>10010</td>\n",
       "      <td>0</td>\n",
       "      <td>0</td>\n",
       "      <td>0</td>\n",
       "      <td>1</td>\n",
       "      <td>3</td>\n",
       "      <td>4</td>\n",
       "      <td>0</td>\n",
       "      <td>220450</td>\n",
       "      <td>...</td>\n",
       "      <td>Janet King</td>\n",
       "      <td>2.0</td>\n",
       "      <td>Employee Referral</td>\n",
       "      <td>Exceeds</td>\n",
       "      <td>4.60</td>\n",
       "      <td>5</td>\n",
       "      <td>6</td>\n",
       "      <td>2/21/2019</td>\n",
       "      <td>0</td>\n",
       "      <td>16</td>\n",
       "    </tr>\n",
       "    <tr>\n",
       "      <th>309</th>\n",
       "      <td>Zhou, Julia</td>\n",
       "      <td>10043</td>\n",
       "      <td>0</td>\n",
       "      <td>0</td>\n",
       "      <td>0</td>\n",
       "      <td>1</td>\n",
       "      <td>3</td>\n",
       "      <td>3</td>\n",
       "      <td>0</td>\n",
       "      <td>89292</td>\n",
       "      <td>...</td>\n",
       "      <td>Simon Roup</td>\n",
       "      <td>4.0</td>\n",
       "      <td>Employee Referral</td>\n",
       "      <td>Fully Meets</td>\n",
       "      <td>5.00</td>\n",
       "      <td>3</td>\n",
       "      <td>5</td>\n",
       "      <td>2/1/2019</td>\n",
       "      <td>0</td>\n",
       "      <td>11</td>\n",
       "    </tr>\n",
       "    <tr>\n",
       "      <th>310</th>\n",
       "      <td>Zima, Colleen</td>\n",
       "      <td>10271</td>\n",
       "      <td>0</td>\n",
       "      <td>4</td>\n",
       "      <td>0</td>\n",
       "      <td>1</td>\n",
       "      <td>5</td>\n",
       "      <td>3</td>\n",
       "      <td>0</td>\n",
       "      <td>45046</td>\n",
       "      <td>...</td>\n",
       "      <td>David Stanley</td>\n",
       "      <td>14.0</td>\n",
       "      <td>LinkedIn</td>\n",
       "      <td>Fully Meets</td>\n",
       "      <td>4.50</td>\n",
       "      <td>5</td>\n",
       "      <td>0</td>\n",
       "      <td>1/30/2019</td>\n",
       "      <td>0</td>\n",
       "      <td>2</td>\n",
       "    </tr>\n",
       "  </tbody>\n",
       "</table>\n",
       "<p>311 rows × 36 columns</p>\n",
       "</div>"
      ],
      "text/plain": [
       "                Employee_Name  EmpID  MarriedID  MaritalStatusID  GenderID  \\\n",
       "0         Adinolfi, Wilson  K  10026          0                0         1   \n",
       "1    Ait Sidi, Karthikeyan     10084          1                1         1   \n",
       "2           Akinkuolie, Sarah  10196          1                1         0   \n",
       "3                Alagbe,Trina  10088          1                1         0   \n",
       "4            Anderson, Carol   10069          0                2         0   \n",
       "..                        ...    ...        ...              ...       ...   \n",
       "306            Woodson, Jason  10135          0                0         1   \n",
       "307        Ybarra, Catherine   10301          0                0         0   \n",
       "308          Zamora, Jennifer  10010          0                0         0   \n",
       "309               Zhou, Julia  10043          0                0         0   \n",
       "310             Zima, Colleen  10271          0                4         0   \n",
       "\n",
       "     EmpStatusID  DeptID  PerfScoreID  FromDiversityJobFairID  Salary  ...  \\\n",
       "0              1       5            4                       0   62506  ...   \n",
       "1              5       3            3                       0  104437  ...   \n",
       "2              5       5            3                       0   64955  ...   \n",
       "3              1       5            3                       0   64991  ...   \n",
       "4              5       5            3                       0   50825  ...   \n",
       "..           ...     ...          ...                     ...     ...  ...   \n",
       "306            1       5            3                       0   65893  ...   \n",
       "307            5       5            1                       0   48513  ...   \n",
       "308            1       3            4                       0  220450  ...   \n",
       "309            1       3            3                       0   89292  ...   \n",
       "310            1       5            3                       0   45046  ...   \n",
       "\n",
       "        ManagerName  ManagerID  RecruitmentSource PerformanceScore  \\\n",
       "0    Michael Albert       22.0           LinkedIn          Exceeds   \n",
       "1        Simon Roup        4.0             Indeed      Fully Meets   \n",
       "2    Kissy Sullivan       20.0           LinkedIn      Fully Meets   \n",
       "3      Elijiah Gray       16.0             Indeed      Fully Meets   \n",
       "4    Webster Butler       39.0      Google Search      Fully Meets   \n",
       "..              ...        ...                ...              ...   \n",
       "306  Kissy Sullivan       20.0           LinkedIn      Fully Meets   \n",
       "307  Brannon Miller       12.0      Google Search              PIP   \n",
       "308      Janet King        2.0  Employee Referral          Exceeds   \n",
       "309      Simon Roup        4.0  Employee Referral      Fully Meets   \n",
       "310   David Stanley       14.0           LinkedIn      Fully Meets   \n",
       "\n",
       "     EngagementSurvey EmpSatisfaction SpecialProjectsCount  \\\n",
       "0                4.60               5                    0   \n",
       "1                4.96               3                    6   \n",
       "2                3.02               3                    0   \n",
       "3                4.84               5                    0   \n",
       "4                5.00               4                    0   \n",
       "..                ...             ...                  ...   \n",
       "306              4.07               4                    0   \n",
       "307              3.20               2                    0   \n",
       "308              4.60               5                    6   \n",
       "309              5.00               3                    5   \n",
       "310              4.50               5                    0   \n",
       "\n",
       "    LastPerformanceReview_Date DaysLateLast30 Absences  \n",
       "0                    1/17/2019              0        1  \n",
       "1                    2/24/2016              0       17  \n",
       "2                    5/15/2012              0        3  \n",
       "3                     1/3/2019              0       15  \n",
       "4                     2/1/2016              0        2  \n",
       "..                         ...            ...      ...  \n",
       "306                  2/28/2019              0       13  \n",
       "307                   9/2/2015              5        4  \n",
       "308                  2/21/2019              0       16  \n",
       "309                   2/1/2019              0       11  \n",
       "310                  1/30/2019              0        2  \n",
       "\n",
       "[311 rows x 36 columns]"
      ]
     },
     "execution_count": 1,
     "metadata": {},
     "output_type": "execute_result"
    }
   ],
   "source": [
    "import pandas as pd\n",
    "import numpy as np\n",
    "import matplotlib.pyplot as plt\n",
    "from datetime import date, timedelta, datetime\n",
    "\n",
    "hr = pd.read_csv('data\\human_resources_dataset_v14.csv')\n",
    "\n",
    "hr"
   ]
  },
  {
   "cell_type": "markdown",
   "id": "d0a5f100",
   "metadata": {},
   "source": [
    "## Data checking and cleaning\n",
    "\n",
    "Checking appropriateness of data types and converting where needed."
   ]
  },
  {
   "cell_type": "code",
   "execution_count": 2,
   "id": "7b7b574d",
   "metadata": {},
   "outputs": [
    {
     "name": "stdout",
     "output_type": "stream",
     "text": [
      "<class 'pandas.core.frame.DataFrame'>\n",
      "RangeIndex: 311 entries, 0 to 310\n",
      "Data columns (total 36 columns):\n",
      " #   Column                      Non-Null Count  Dtype  \n",
      "---  ------                      --------------  -----  \n",
      " 0   Employee_Name               311 non-null    object \n",
      " 1   EmpID                       311 non-null    int64  \n",
      " 2   MarriedID                   311 non-null    int64  \n",
      " 3   MaritalStatusID             311 non-null    int64  \n",
      " 4   GenderID                    311 non-null    int64  \n",
      " 5   EmpStatusID                 311 non-null    int64  \n",
      " 6   DeptID                      311 non-null    int64  \n",
      " 7   PerfScoreID                 311 non-null    int64  \n",
      " 8   FromDiversityJobFairID      311 non-null    int64  \n",
      " 9   Salary                      311 non-null    int64  \n",
      " 10  Termd                       311 non-null    int64  \n",
      " 11  PositionID                  311 non-null    int64  \n",
      " 12  Position                    311 non-null    object \n",
      " 13  State                       311 non-null    object \n",
      " 14  Zip                         311 non-null    int64  \n",
      " 15  DOB                         311 non-null    object \n",
      " 16  Sex                         311 non-null    object \n",
      " 17  MaritalDesc                 311 non-null    object \n",
      " 18  CitizenDesc                 311 non-null    object \n",
      " 19  HispanicLatino              311 non-null    object \n",
      " 20  RaceDesc                    311 non-null    object \n",
      " 21  DateofHire                  311 non-null    object \n",
      " 22  DateofTermination           104 non-null    object \n",
      " 23  TermReason                  311 non-null    object \n",
      " 24  EmploymentStatus            311 non-null    object \n",
      " 25  Department                  311 non-null    object \n",
      " 26  ManagerName                 311 non-null    object \n",
      " 27  ManagerID                   303 non-null    float64\n",
      " 28  RecruitmentSource           311 non-null    object \n",
      " 29  PerformanceScore            311 non-null    object \n",
      " 30  EngagementSurvey            311 non-null    float64\n",
      " 31  EmpSatisfaction             311 non-null    int64  \n",
      " 32  SpecialProjectsCount        311 non-null    int64  \n",
      " 33  LastPerformanceReview_Date  311 non-null    object \n",
      " 34  DaysLateLast30              311 non-null    int64  \n",
      " 35  Absences                    311 non-null    int64  \n",
      "dtypes: float64(2), int64(16), object(18)\n",
      "memory usage: 87.6+ KB\n"
     ]
    }
   ],
   "source": [
    "hr.info()"
   ]
  },
  {
   "cell_type": "markdown",
   "id": "756ff3da",
   "metadata": {},
   "source": [
    "### Date/time data types\n",
    "\n",
    "There are date columns with ambiguous 8 character values. The non-ambiguous ones have 10 string characters:\n",
    "\n",
    "e.g. '04/19/90' vs '11/05/1978'\n",
    "\n",
    "If we do not prefix '19' to these 8 character dates, then they might incorrectly be prefixed with '20' if we were to convert them to the date data type.\n",
    "\n",
    "All four date-related columns contain 8 digit dates with other length variations."
   ]
  },
  {
   "cell_type": "code",
   "execution_count": 3,
   "id": "d8c1e7bf",
   "metadata": {},
   "outputs": [
    {
     "name": "stdout",
     "output_type": "stream",
     "text": [
      "DOB column:\n",
      "min: 8 max: 8\n",
      "\n",
      "DateofHire column:\n",
      "min: 8 max: 10\n",
      "\n",
      "DateofTermination column:\n",
      "min: 8 max: 10\n",
      "\n",
      "LastPerformanceReview_Date column:\n",
      "min: 8 max: 10\n"
     ]
    }
   ],
   "source": [
    "def min_max_lengths(column):\n",
    "    column_lengths = []\n",
    "    for i in column.dropna():\n",
    "        column_lengths.append(len(i))\n",
    "    print(f'min: {min(column_lengths)} max: {max(column_lengths)}')\n",
    "\n",
    "print('DOB column:')\n",
    "min_max_lengths(hr.DOB)\n",
    "print('')\n",
    "print('DateofHire column:')\n",
    "min_max_lengths(hr.DateofHire)\n",
    "print('')\n",
    "print('DateofTermination column:')\n",
    "min_max_lengths(hr.DateofTermination)\n",
    "print('')\n",
    "print('LastPerformanceReview_Date column:')\n",
    "min_max_lengths(hr.LastPerformanceReview_Date)"
   ]
  },
  {
   "cell_type": "markdown",
   "id": "3ff301f1",
   "metadata": {},
   "source": [
    "**Checking the \"year\" component for every date-related column**\n",
    "\n",
    "So we will check the year values for each column before assigning the date data type.\n",
    "\n",
    "It appears we will need to prefix \"19\" to the years for all of the DOB column's values."
   ]
  },
  {
   "cell_type": "code",
   "execution_count": 4,
   "id": "c16a68f4",
   "metadata": {},
   "outputs": [
    {
     "name": "stdout",
     "output_type": "stream",
     "text": [
      "DOB column:\n",
      "['51', '52', '53', '54', '55', '58', '59', '61', '63', '64', '65', '66', '67', '68', '69', '70', '71', '72', '73', '74', '75', '76', '77', '78', '79', '80', '81', '82', '83', '84', '85', '86', '87', '88', '89', '90', '91', '92']\n"
     ]
    }
   ],
   "source": [
    "def getyearsfromdates(datecolumn):\n",
    "    checkyears = []\n",
    "    datecolumn = datecolumn.dropna()\n",
    "    for i in datecolumn:\n",
    "        checkyears.append(i[i.rindex('/')+1:len(i)])\n",
    "    checkyears = list(dict.fromkeys(checkyears))\n",
    "    checyears_sorted = checkyears.sort()\n",
    "    print(checkyears)\n",
    "\n",
    "print('DOB column:')\n",
    "getyearsfromdates(hr.DOB)"
   ]
  },
  {
   "cell_type": "markdown",
   "id": "d988cfa9",
   "metadata": {},
   "source": [
    "Whereas the other 3 date columns are fine to convert as-is to date data type."
   ]
  },
  {
   "cell_type": "code",
   "execution_count": 5,
   "id": "dcdcda00",
   "metadata": {},
   "outputs": [
    {
     "name": "stdout",
     "output_type": "stream",
     "text": [
      "DateofHire column:\n",
      "['2006', '2007', '2008', '2009', '2010', '2011', '2012', '2013', '2014', '2015', '2016', '2017', '2018']\n",
      "\n",
      "DateofTermination column:\n",
      "['2010', '2011', '2012', '2013', '2014', '2015', '2016', '2017', '2018']\n",
      "\n",
      "LastPerformanceReview_Date column:\n",
      "['2010', '2011', '2012', '2013', '2014', '2015', '2016', '2017', '2018', '2019']\n"
     ]
    }
   ],
   "source": [
    "print('DateofHire column:')\n",
    "getyearsfromdates(hr.DateofHire)\n",
    "print('')\n",
    "\n",
    "print('DateofTermination column:')\n",
    "getyearsfromdates(hr.DateofTermination)\n",
    "print('')\n",
    "\n",
    "print('LastPerformanceReview_Date column:')\n",
    "getyearsfromdates(hr.LastPerformanceReview_Date)"
   ]
  },
  {
   "cell_type": "markdown",
   "id": "9ed8651a",
   "metadata": {},
   "source": [
    "**Substitute string-based DOB column that has unclear years**\n",
    "\n",
    "I can't seem to replace an existing value based on a formula using that existing value.\n",
    "\n",
    "e.g.\n",
    "```\n",
    "row['DOB_'] = pd.to_datetime(row['DOB_'][0:6] + '19' + row['DOB_'][6:8])\n",
    "```\n",
    "* So instead, we will suffix the existing string-based DOB column with \"_\"\n",
    "* Then create a new column using the original DOB name and apply the formula to it\n",
    "* Lastly, we will delete the \"_\" suffixed column"
   ]
  },
  {
   "cell_type": "code",
   "execution_count": 6,
   "id": "376562c8",
   "metadata": {},
   "outputs": [],
   "source": [
    "hr.rename(columns={'DOB':'DOB_'}, inplace=True)\n",
    "\n",
    "hr.insert(15, 'DOB', None, allow_duplicates=True)\n",
    "\n",
    "for i, row in hr.iterrows():\n",
    "    if len(row['DOB_']) == 8:\n",
    "        hr.loc[i, 'DOB'] = pd.to_datetime(row['DOB_'][0:6] + '19' + row['DOB_'][6:8]).date()\n",
    "    else:\n",
    "        hr.loc[i, 'DOB'] = pd.to_datetime(row['DOB_']).date()\n",
    "\n",
    "hr = hr.drop('DOB_', axis=1)"
   ]
  },
  {
   "cell_type": "code",
   "execution_count": 7,
   "id": "8ba535b5",
   "metadata": {},
   "outputs": [
    {
     "name": "stdout",
     "output_type": "stream",
     "text": [
      "1983-07-10\n",
      "<class 'datetime.date'>\n"
     ]
    }
   ],
   "source": [
    "print(hr.DOB[0])\n",
    "print(type(hr.DOB[0]))"
   ]
  },
  {
   "cell_type": "markdown",
   "id": "0ceeae31",
   "metadata": {},
   "source": [
    "**Convert other date columns as-is to date data type**"
   ]
  },
  {
   "cell_type": "code",
   "execution_count": 8,
   "id": "ced297a9",
   "metadata": {},
   "outputs": [],
   "source": [
    "hr.DateofHire = pd.to_datetime(hr.DateofHire).dt.date\n",
    "hr.DateofTermination = pd.to_datetime(hr.DateofTermination).dt.date\n",
    "hr.LastPerformanceReview_Date = pd.to_datetime(hr.LastPerformanceReview_Date).dt.date"
   ]
  },
  {
   "cell_type": "code",
   "execution_count": 9,
   "id": "f4718aee",
   "metadata": {},
   "outputs": [
    {
     "name": "stdout",
     "output_type": "stream",
     "text": [
      "2011-07-05\n",
      "<class 'datetime.date'>\n"
     ]
    }
   ],
   "source": [
    "print(hr.DateofHire[0])\n",
    "print(type(hr.DateofHire[0]))"
   ]
  },
  {
   "cell_type": "markdown",
   "id": "20c99911",
   "metadata": {},
   "source": [
    "**Finding date discrepancies**\n",
    "\n",
    "Let's ensure that there are no hire dates greater than termination dates..."
   ]
  },
  {
   "cell_type": "code",
   "execution_count": 10,
   "id": "5dbf0db6",
   "metadata": {},
   "outputs": [
    {
     "data": {
      "text/html": [
       "<div>\n",
       "<style scoped>\n",
       "    .dataframe tbody tr th:only-of-type {\n",
       "        vertical-align: middle;\n",
       "    }\n",
       "\n",
       "    .dataframe tbody tr th {\n",
       "        vertical-align: top;\n",
       "    }\n",
       "\n",
       "    .dataframe thead th {\n",
       "        text-align: right;\n",
       "    }\n",
       "</style>\n",
       "<table border=\"1\" class=\"dataframe\">\n",
       "  <thead>\n",
       "    <tr style=\"text-align: right;\">\n",
       "      <th></th>\n",
       "      <th>EmpID</th>\n",
       "      <th>DateofHire</th>\n",
       "      <th>LastPerformanceReview_Date</th>\n",
       "      <th>DateofTermination</th>\n",
       "      <th>EmploymentStatus</th>\n",
       "      <th>TermReason</th>\n",
       "    </tr>\n",
       "  </thead>\n",
       "  <tbody>\n",
       "  </tbody>\n",
       "</table>\n",
       "</div>"
      ],
      "text/plain": [
       "Empty DataFrame\n",
       "Columns: [EmpID, DateofHire, LastPerformanceReview_Date, DateofTermination, EmploymentStatus, TermReason]\n",
       "Index: []"
      ]
     },
     "execution_count": 10,
     "metadata": {},
     "output_type": "execute_result"
    }
   ],
   "source": [
    "hr[['EmpID', 'DateofHire','LastPerformanceReview_Date','DateofTermination', 'EmploymentStatus', 'TermReason']].query('DateofHire > DateofTermination')"
   ]
  },
  {
   "cell_type": "markdown",
   "id": "b199833a",
   "metadata": {},
   "source": [
    "...nor last performance review date:"
   ]
  },
  {
   "cell_type": "code",
   "execution_count": 11,
   "id": "522f73ce",
   "metadata": {},
   "outputs": [
    {
     "data": {
      "text/html": [
       "<div>\n",
       "<style scoped>\n",
       "    .dataframe tbody tr th:only-of-type {\n",
       "        vertical-align: middle;\n",
       "    }\n",
       "\n",
       "    .dataframe tbody tr th {\n",
       "        vertical-align: top;\n",
       "    }\n",
       "\n",
       "    .dataframe thead th {\n",
       "        text-align: right;\n",
       "    }\n",
       "</style>\n",
       "<table border=\"1\" class=\"dataframe\">\n",
       "  <thead>\n",
       "    <tr style=\"text-align: right;\">\n",
       "      <th></th>\n",
       "      <th>EmpID</th>\n",
       "      <th>DateofHire</th>\n",
       "      <th>LastPerformanceReview_Date</th>\n",
       "      <th>DateofTermination</th>\n",
       "      <th>EmploymentStatus</th>\n",
       "      <th>TermReason</th>\n",
       "    </tr>\n",
       "  </thead>\n",
       "  <tbody>\n",
       "    <tr>\n",
       "      <th>104</th>\n",
       "      <td>10142</td>\n",
       "      <td>2014-07-07</td>\n",
       "      <td>2014-01-15</td>\n",
       "      <td>2015-09-05</td>\n",
       "      <td>Terminated for Cause</td>\n",
       "      <td>attendance</td>\n",
       "    </tr>\n",
       "    <tr>\n",
       "      <th>108</th>\n",
       "      <td>10246</td>\n",
       "      <td>2015-02-16</td>\n",
       "      <td>2015-01-20</td>\n",
       "      <td>2015-03-15</td>\n",
       "      <td>Terminated for Cause</td>\n",
       "      <td>no-call, no-show</td>\n",
       "    </tr>\n",
       "  </tbody>\n",
       "</table>\n",
       "</div>"
      ],
      "text/plain": [
       "     EmpID  DateofHire LastPerformanceReview_Date DateofTermination  \\\n",
       "104  10142  2014-07-07                 2014-01-15        2015-09-05   \n",
       "108  10246  2015-02-16                 2015-01-20        2015-03-15   \n",
       "\n",
       "         EmploymentStatus        TermReason  \n",
       "104  Terminated for Cause        attendance  \n",
       "108  Terminated for Cause  no-call, no-show  "
      ]
     },
     "execution_count": 11,
     "metadata": {},
     "output_type": "execute_result"
    }
   ],
   "source": [
    "hr[['EmpID','DateofHire', 'LastPerformanceReview_Date', 'DateofTermination', 'EmploymentStatus', 'TermReason']].query('DateofHire > LastPerformanceReview_Date')"
   ]
  },
  {
   "cell_type": "markdown",
   "id": "946d5a3c",
   "metadata": {},
   "source": [
    "Going by the dates, EmpID:\n",
    "* **10142** was last reviewed 15th Jan '14 (for initial re-hire?), but was then \"re-hired\" on 7th July '14, then fired for poor attendance on 7th July '15.\n",
    "* **10246** was was last reviewed 20th Jan '15 (for initial hire?), but was then \"re-hired\" on 16th Feb '15, then fired for no show on 15th March '15.\n",
    "\n",
    "Considering how crazy the termination reasons are, the above discrepancies might not be so far-fetched, but we'd need to account for them in subsequent code.\n",
    "\n",
    "To give ourselves context, we'll pivot EmploymantStatus alongside TermReason."
   ]
  },
  {
   "cell_type": "code",
   "execution_count": 12,
   "id": "159229b1",
   "metadata": {},
   "outputs": [
    {
     "data": {
      "text/plain": [
       "EmploymentStatus        TermReason                      \n",
       "Active                  N/A-StillEmployed                   207\n",
       "Terminated for Cause    Fatal attraction                      1\n",
       "                        Learned that he is a gangster         1\n",
       "                        attendance                            6\n",
       "                        gross misconduct                      1\n",
       "                        no-call, no-show                      4\n",
       "                        performance                           3\n",
       "Voluntarily Terminated  Another position                     20\n",
       "                        attendance                            1\n",
       "                        career change                         9\n",
       "                        hours                                 8\n",
       "                        maternity leave - did not return      3\n",
       "                        medical issues                        3\n",
       "                        military                              4\n",
       "                        more money                           11\n",
       "                        performance                           1\n",
       "                        relocation out of area                5\n",
       "                        retiring                              4\n",
       "                        return to school                      5\n",
       "                        unhappy                              14\n",
       "Name: EmpID, dtype: int64"
      ]
     },
     "execution_count": 12,
     "metadata": {},
     "output_type": "execute_result"
    }
   ],
   "source": [
    "hr[['EmpID', 'EmploymentStatus', 'TermReason']].groupby(['EmploymentStatus', 'TermReason']).EmpID.count()"
   ]
  },
  {
   "cell_type": "markdown",
   "id": "07d4e37f",
   "metadata": {},
   "source": [
    "Next we check if there are performance dates greater than termination dates.\n",
    "\n",
    "It seems very strange and highly unlikely for EmpID **10305** to have a performance review half a year after terminatation. Unless they were re-hired after their last termination?"
   ]
  },
  {
   "cell_type": "code",
   "execution_count": 13,
   "id": "e83e4f88",
   "metadata": {},
   "outputs": [
    {
     "data": {
      "text/html": [
       "<div>\n",
       "<style scoped>\n",
       "    .dataframe tbody tr th:only-of-type {\n",
       "        vertical-align: middle;\n",
       "    }\n",
       "\n",
       "    .dataframe tbody tr th {\n",
       "        vertical-align: top;\n",
       "    }\n",
       "\n",
       "    .dataframe thead th {\n",
       "        text-align: right;\n",
       "    }\n",
       "</style>\n",
       "<table border=\"1\" class=\"dataframe\">\n",
       "  <thead>\n",
       "    <tr style=\"text-align: right;\">\n",
       "      <th></th>\n",
       "      <th>EmpID</th>\n",
       "      <th>DateofHire</th>\n",
       "      <th>LastPerformanceReview_Date</th>\n",
       "      <th>DateofTermination</th>\n",
       "      <th>EmploymentStatus</th>\n",
       "      <th>TermReason</th>\n",
       "    </tr>\n",
       "  </thead>\n",
       "  <tbody>\n",
       "    <tr>\n",
       "      <th>95</th>\n",
       "      <td>10305</td>\n",
       "      <td>2014-09-29</td>\n",
       "      <td>2019-01-28</td>\n",
       "      <td>2018-08-19</td>\n",
       "      <td>Terminated for Cause</td>\n",
       "      <td>Fatal attraction</td>\n",
       "    </tr>\n",
       "  </tbody>\n",
       "</table>\n",
       "</div>"
      ],
      "text/plain": [
       "    EmpID  DateofHire LastPerformanceReview_Date DateofTermination  \\\n",
       "95  10305  2014-09-29                 2019-01-28        2018-08-19   \n",
       "\n",
       "        EmploymentStatus        TermReason  \n",
       "95  Terminated for Cause  Fatal attraction  "
      ]
     },
     "execution_count": 13,
     "metadata": {},
     "output_type": "execute_result"
    }
   ],
   "source": [
    "hr[['EmpID','DateofHire', 'LastPerformanceReview_Date', 'DateofTermination', 'EmploymentStatus', 'TermReason']].query('LastPerformanceReview_Date > DateofTermination')"
   ]
  },
  {
   "cell_type": "markdown",
   "id": "781650b5",
   "metadata": {},
   "source": [
    "Since the context of these 3 records are unclear, we will omit them from the dataset entirely."
   ]
  },
  {
   "cell_type": "code",
   "execution_count": 14,
   "id": "5a86f657",
   "metadata": {},
   "outputs": [
    {
     "data": {
      "text/html": [
       "<div>\n",
       "<style scoped>\n",
       "    .dataframe tbody tr th:only-of-type {\n",
       "        vertical-align: middle;\n",
       "    }\n",
       "\n",
       "    .dataframe tbody tr th {\n",
       "        vertical-align: top;\n",
       "    }\n",
       "\n",
       "    .dataframe thead th {\n",
       "        text-align: right;\n",
       "    }\n",
       "</style>\n",
       "<table border=\"1\" class=\"dataframe\">\n",
       "  <thead>\n",
       "    <tr style=\"text-align: right;\">\n",
       "      <th></th>\n",
       "      <th>Employee_Name</th>\n",
       "      <th>EmpID</th>\n",
       "      <th>MarriedID</th>\n",
       "      <th>MaritalStatusID</th>\n",
       "      <th>GenderID</th>\n",
       "      <th>EmpStatusID</th>\n",
       "      <th>DeptID</th>\n",
       "      <th>PerfScoreID</th>\n",
       "      <th>FromDiversityJobFairID</th>\n",
       "      <th>Salary</th>\n",
       "      <th>...</th>\n",
       "      <th>ManagerName</th>\n",
       "      <th>ManagerID</th>\n",
       "      <th>RecruitmentSource</th>\n",
       "      <th>PerformanceScore</th>\n",
       "      <th>EngagementSurvey</th>\n",
       "      <th>EmpSatisfaction</th>\n",
       "      <th>SpecialProjectsCount</th>\n",
       "      <th>LastPerformanceReview_Date</th>\n",
       "      <th>DaysLateLast30</th>\n",
       "      <th>Absences</th>\n",
       "    </tr>\n",
       "  </thead>\n",
       "  <tbody>\n",
       "  </tbody>\n",
       "</table>\n",
       "<p>0 rows × 36 columns</p>\n",
       "</div>"
      ],
      "text/plain": [
       "Empty DataFrame\n",
       "Columns: [Employee_Name, EmpID, MarriedID, MaritalStatusID, GenderID, EmpStatusID, DeptID, PerfScoreID, FromDiversityJobFairID, Salary, Termd, PositionID, Position, State, Zip, DOB, Sex, MaritalDesc, CitizenDesc, HispanicLatino, RaceDesc, DateofHire, DateofTermination, TermReason, EmploymentStatus, Department, ManagerName, ManagerID, RecruitmentSource, PerformanceScore, EngagementSurvey, EmpSatisfaction, SpecialProjectsCount, LastPerformanceReview_Date, DaysLateLast30, Absences]\n",
       "Index: []\n",
       "\n",
       "[0 rows x 36 columns]"
      ]
     },
     "execution_count": 14,
     "metadata": {},
     "output_type": "execute_result"
    }
   ],
   "source": [
    "indexhrtodelete = hr[ (hr['EmpID'] == 10142) | (hr['EmpID'] == 10246) | (hr['EmpID'] == 10305) ].index\n",
    "hr.drop(indexhrtodelete , inplace=True)\n",
    "hr.query('EmpID == 10142 | EmpID == 10246 | EmpID == 10305')"
   ]
  },
  {
   "cell_type": "markdown",
   "id": "7f57c94a",
   "metadata": {},
   "source": [
    "If we wanted to update the dates on the assumption they were entered incorrectly, the code we could use is:\n",
    "\n",
    "```\n",
    "hr.loc[hr.EmpID == 10305, 'LastPerformanceReview_Date'] = datetime(2018, 1, 28).date()\n",
    "```"
   ]
  },
  {
   "cell_type": "markdown",
   "id": "e7e99b03",
   "metadata": {},
   "source": [
    "### Integer data types\n",
    "\n",
    "Before examining the existing numerical data types, we'll add new columns that derive from the date columns we cleaned.\n",
    "\n",
    "**Add a column for age**\n",
    "\n",
    "From the DOB column, we can derive age.\n",
    "\n",
    "https://stackoverflow.com/questions/2217488/age-from-birthdate-in-python"
   ]
  },
  {
   "cell_type": "code",
   "execution_count": 15,
   "id": "9ebcc087",
   "metadata": {},
   "outputs": [],
   "source": [
    "hr.insert(16, \"Age\", None, allow_duplicates=True)\n",
    "\n",
    "for i, row in hr.iterrows():\n",
    "    hr.loc[i, 'Age'] = (datetime.today().date() - row['DOB']) // timedelta(days=365.2425)"
   ]
  },
  {
   "cell_type": "code",
   "execution_count": 16,
   "id": "dea48284",
   "metadata": {},
   "outputs": [],
   "source": [
    "# hr[['EmpID', 'Age']].groupby(['Age']).EmpID.count()"
   ]
  },
  {
   "cell_type": "markdown",
   "id": "23551e8b",
   "metadata": {},
   "source": [
    "Because we are using today's date (as at time of writing, April 2023), no-one in this dataset is in their 20s, which seems a tad unrealistic. So we will set a manual date to represent \"today\" then re-process the ages."
   ]
  },
  {
   "cell_type": "code",
   "execution_count": 17,
   "id": "eba0a1bb",
   "metadata": {},
   "outputs": [
    {
     "data": {
      "text/plain": [
       "<matplotlib.lines.Line2D at 0x1f8ced21f10>"
      ]
     },
     "execution_count": 17,
     "metadata": {},
     "output_type": "execute_result"
    },
    {
     "data": {
      "image/png": "[encoded data removed]",
      "text/plain": [
       "<Figure size 640x480 with 1 Axes>"
      ]
     },
     "metadata": {},
     "output_type": "display_data"
    }
   ],
   "source": [
    "hr.Age.plot(kind='hist', histtype='step', bins=10, color='deepskyblue')\n",
    "\n",
    "plt.axvline(hr.Age.mean(), color='deeppink')\n",
    "plt.axvline(hr.Age.median(), color='deeppink', linestyle='--')\n",
    "plt.axvline(hr.Age.quantile(0.25), color='deeppink', linestyle=':')\n",
    "plt.axvline(hr.Age.quantile(0.75), color='deeppink', linestyle=':')"
   ]
  },
  {
   "cell_type": "markdown",
   "id": "a9dc0e52",
   "metadata": {},
   "source": [
    "We need to know what we're limited to setting that fake \"today\" date to, by finding the most recent performance review date."
   ]
  },
  {
   "cell_type": "code",
   "execution_count": 18,
   "id": "5847c13f",
   "metadata": {},
   "outputs": [
    {
     "data": {
      "text/plain": [
       "datetime.date(2019, 2, 28)"
      ]
     },
     "execution_count": 18,
     "metadata": {},
     "output_type": "execute_result"
    }
   ],
   "source": [
    "hr.LastPerformanceReview_Date.max()"
   ]
  },
  {
   "cell_type": "markdown",
   "id": "cb451acd",
   "metadata": {},
   "source": [
    "So we will set the \"current date\" a month after that last review, then calculate the age column."
   ]
  },
  {
   "cell_type": "code",
   "execution_count": 19,
   "id": "20582ad8",
   "metadata": {},
   "outputs": [],
   "source": [
    "currentdate = datetime(2019, 4, 4).date()\n",
    "\n",
    "for i, row in hr.iterrows():\n",
    "    hr.loc[i, 'Age'] = (currentdate - row['DOB']) // timedelta(days=365.2425)\n",
    "\n",
    "hr.Age = hr.Age.astype('int64')"
   ]
  },
  {
   "cell_type": "code",
   "execution_count": 20,
   "id": "589e6983",
   "metadata": {},
   "outputs": [],
   "source": [
    "# hr[['EmpID', 'Age']].groupby(['Age']).EmpID.count()"
   ]
  },
  {
   "cell_type": "markdown",
   "id": "fa524827",
   "metadata": {},
   "source": [
    "This distribution looks much more realistic."
   ]
  },
  {
   "cell_type": "code",
   "execution_count": 21,
   "id": "59e3df82",
   "metadata": {},
   "outputs": [
    {
     "data": {
      "text/plain": [
       "<matplotlib.lines.Line2D at 0x1f8d0e1b390>"
      ]
     },
     "execution_count": 21,
     "metadata": {},
     "output_type": "execute_result"
    },
    {
     "data": {
      "image/png": "[encoded data removed]",
      "text/plain": [
       "<Figure size 640x480 with 1 Axes>"
      ]
     },
     "metadata": {},
     "output_type": "display_data"
    }
   ],
   "source": [
    "hr.Age.plot(kind='hist', histtype='step', bins=10, color='deepskyblue')\n",
    "\n",
    "plt.axvline(hr.Age.mean(), color='deeppink')\n",
    "plt.axvline(hr.Age.median(), color='deeppink', linestyle='--')\n",
    "plt.axvline(hr.Age.quantile(0.25), color='deeppink', linestyle=':')\n",
    "plt.axvline(hr.Age.quantile(0.75), color='deeppink', linestyle=':')"
   ]
  },
  {
   "cell_type": "markdown",
   "id": "3806c98e",
   "metadata": {},
   "source": [
    "**Validate termination binary**\n",
    "\n",
    "Next we validate if the Termd column reflects a terminated date, so we can use it as a condition later to calculate years of service. We validate this by creating a dataframe with a new column named \"Terminated\" based on whether or not termination date is null, then pivot the results.\n",
    "\n",
    "If the data is reliable, it should appear like this:\n",
    "\n",
    "```\n",
    "Temd Terminated\n",
    "   0          0\n",
    "   1          1\n",
    "```\n",
    "\n",
    "Any other combination would need more investigation. In this case, we can rely on that data."
   ]
  },
  {
   "cell_type": "code",
   "execution_count": 22,
   "id": "c85b4339",
   "metadata": {},
   "outputs": [
    {
     "data": {
      "text/plain": [
       "Termd  Terminated\n",
       "0      0             207\n",
       "1      1             101\n",
       "Name: EmpID, dtype: int64"
      ]
     },
     "execution_count": 22,
     "metadata": {},
     "output_type": "execute_result"
    }
   ],
   "source": [
    "checkTermd = hr[['EmpID', 'Termd', 'DateofTermination']].copy()\n",
    "\n",
    "checkTermd.insert(2, \"Terminated\", None, allow_duplicates=True)\n",
    "for i, row in checkTermd.iterrows():\n",
    "    if pd.isnull(checkTermd.loc[i, 'DateofTermination']):\n",
    "        checkTermd.loc[i, 'Terminated'] = 0\n",
    "    else:\n",
    "        checkTermd.loc[i, 'Terminated'] = 1\n",
    "\n",
    "checkTermd[['EmpID', 'Termd', 'Terminated']].groupby(['Termd', 'Terminated']).EmpID.count()"
   ]
  },
  {
   "cell_type": "markdown",
   "id": "a9b78f54",
   "metadata": {},
   "source": [
    "**Add a column for number of months employed**\n",
    "\n",
    "From the DateofHire and DateofTermination columns, we can derive years of service."
   ]
  },
  {
   "cell_type": "code",
   "execution_count": 23,
   "id": "74626308",
   "metadata": {},
   "outputs": [],
   "source": [
    "hr.insert(24, \"MonthsofService\", None, allow_duplicates=True)\n",
    "\n",
    "for i, row in hr.iterrows():\n",
    "    if row['Termd'] == 1:\n",
    "        hr.loc[i, 'MonthsofService'] = (row['DateofTermination'] - row['DateofHire']) // (timedelta(days=365.2425) // 12)\n",
    "    else:\n",
    "        hr.loc[i, 'MonthsofService'] = (currentdate - row['DateofHire']) // (timedelta(days=365.2425) // 12)"
   ]
  },
  {
   "cell_type": "markdown",
   "id": "ec923cff",
   "metadata": {},
   "source": [
    "**Add a column for number of months since last performance review**\n",
    "\n",
    "For terminated employees, this calculates the months between their last review and their termination date.\n",
    "\n",
    "For continuing employees, this calculates the months between their last review and the \"current\" date."
   ]
  },
  {
   "cell_type": "code",
   "execution_count": 24,
   "id": "3b5ab944",
   "metadata": {},
   "outputs": [],
   "source": [
    "hr.insert(36, \"MonthsSinceLastReview\", None, allow_duplicates=True)\n",
    "\n",
    "for i, row in hr.iterrows():\n",
    "    if row['Termd'] == 1:\n",
    "        hr.loc[i, 'MonthsSinceLastReview'] = (row['DateofTermination'] - row['LastPerformanceReview_Date']) // (timedelta(days=365.2425) // 12)\n",
    "    else:\n",
    "        hr.loc[i, 'MonthsSinceLastReview'] = (currentdate - row['LastPerformanceReview_Date']) // (timedelta(days=365.2425) // 12)"
   ]
  },
  {
   "cell_type": "code",
   "execution_count": 25,
   "id": "64883c17",
   "metadata": {},
   "outputs": [
    {
     "data": {
      "text/plain": [
       "MonthsSinceLastReview\n",
       "0      10\n",
       "1      98\n",
       "2     132\n",
       "3      12\n",
       "4       5\n",
       "5       8\n",
       "6       5\n",
       "7       5\n",
       "8       4\n",
       "9       8\n",
       "10      1\n",
       "11      3\n",
       "12      5\n",
       "13      4\n",
       "14      2\n",
       "15      2\n",
       "17      2\n",
       "19      1\n",
       "20      1\n",
       "Name: EmpID, dtype: int64"
      ]
     },
     "execution_count": 25,
     "metadata": {},
     "output_type": "execute_result"
    }
   ],
   "source": [
    "hr[['EmpID', 'MonthsSinceLastReview']].groupby(['MonthsSinceLastReview']).EmpID.count()"
   ]
  },
  {
   "cell_type": "code",
   "execution_count": 26,
   "id": "90314ab7",
   "metadata": {},
   "outputs": [
    {
     "data": {
      "text/html": [
       "<div>\n",
       "<style scoped>\n",
       "    .dataframe tbody tr th:only-of-type {\n",
       "        vertical-align: middle;\n",
       "    }\n",
       "\n",
       "    .dataframe tbody tr th {\n",
       "        vertical-align: top;\n",
       "    }\n",
       "\n",
       "    .dataframe thead th {\n",
       "        text-align: right;\n",
       "    }\n",
       "</style>\n",
       "<table border=\"1\" class=\"dataframe\">\n",
       "  <thead>\n",
       "    <tr style=\"text-align: right;\">\n",
       "      <th></th>\n",
       "      <th>Employee_Name</th>\n",
       "      <th>EmpID</th>\n",
       "      <th>MarriedID</th>\n",
       "      <th>MaritalStatusID</th>\n",
       "      <th>GenderID</th>\n",
       "      <th>EmpStatusID</th>\n",
       "      <th>DeptID</th>\n",
       "      <th>PerfScoreID</th>\n",
       "      <th>FromDiversityJobFairID</th>\n",
       "      <th>Salary</th>\n",
       "      <th>...</th>\n",
       "      <th>ManagerID</th>\n",
       "      <th>RecruitmentSource</th>\n",
       "      <th>PerformanceScore</th>\n",
       "      <th>EngagementSurvey</th>\n",
       "      <th>EmpSatisfaction</th>\n",
       "      <th>SpecialProjectsCount</th>\n",
       "      <th>LastPerformanceReview_Date</th>\n",
       "      <th>MonthsSinceLastReview</th>\n",
       "      <th>DaysLateLast30</th>\n",
       "      <th>Absences</th>\n",
       "    </tr>\n",
       "  </thead>\n",
       "  <tbody>\n",
       "    <tr>\n",
       "      <th>121</th>\n",
       "      <td>Guilianno, Mike</td>\n",
       "      <td>10109</td>\n",
       "      <td>0</td>\n",
       "      <td>0</td>\n",
       "      <td>1</td>\n",
       "      <td>5</td>\n",
       "      <td>6</td>\n",
       "      <td>3</td>\n",
       "      <td>0</td>\n",
       "      <td>71707</td>\n",
       "      <td>...</td>\n",
       "      <td>17.0</td>\n",
       "      <td>LinkedIn</td>\n",
       "      <td>Fully Meets</td>\n",
       "      <td>4.50</td>\n",
       "      <td>5</td>\n",
       "      <td>0</td>\n",
       "      <td>2013-02-01</td>\n",
       "      <td>20</td>\n",
       "      <td>0</td>\n",
       "      <td>20</td>\n",
       "    </tr>\n",
       "    <tr>\n",
       "      <th>188</th>\n",
       "      <td>Miller, Ned</td>\n",
       "      <td>10298</td>\n",
       "      <td>0</td>\n",
       "      <td>0</td>\n",
       "      <td>1</td>\n",
       "      <td>5</td>\n",
       "      <td>5</td>\n",
       "      <td>1</td>\n",
       "      <td>0</td>\n",
       "      <td>55800</td>\n",
       "      <td>...</td>\n",
       "      <td>12.0</td>\n",
       "      <td>LinkedIn</td>\n",
       "      <td>PIP</td>\n",
       "      <td>3.00</td>\n",
       "      <td>2</td>\n",
       "      <td>0</td>\n",
       "      <td>2013-01-14</td>\n",
       "      <td>19</td>\n",
       "      <td>6</td>\n",
       "      <td>6</td>\n",
       "    </tr>\n",
       "    <tr>\n",
       "      <th>32</th>\n",
       "      <td>Bunbury, Jessica</td>\n",
       "      <td>10188</td>\n",
       "      <td>1</td>\n",
       "      <td>1</td>\n",
       "      <td>0</td>\n",
       "      <td>5</td>\n",
       "      <td>6</td>\n",
       "      <td>3</td>\n",
       "      <td>0</td>\n",
       "      <td>74326</td>\n",
       "      <td>...</td>\n",
       "      <td>17.0</td>\n",
       "      <td>Google Search</td>\n",
       "      <td>Fully Meets</td>\n",
       "      <td>3.14</td>\n",
       "      <td>5</td>\n",
       "      <td>0</td>\n",
       "      <td>2013-02-10</td>\n",
       "      <td>17</td>\n",
       "      <td>1</td>\n",
       "      <td>19</td>\n",
       "    </tr>\n",
       "    <tr>\n",
       "      <th>216</th>\n",
       "      <td>Perry, Shakira</td>\n",
       "      <td>10171</td>\n",
       "      <td>0</td>\n",
       "      <td>0</td>\n",
       "      <td>0</td>\n",
       "      <td>5</td>\n",
       "      <td>5</td>\n",
       "      <td>3</td>\n",
       "      <td>0</td>\n",
       "      <td>45998</td>\n",
       "      <td>...</td>\n",
       "      <td>11.0</td>\n",
       "      <td>LinkedIn</td>\n",
       "      <td>Fully Meets</td>\n",
       "      <td>3.45</td>\n",
       "      <td>4</td>\n",
       "      <td>0</td>\n",
       "      <td>2014-05-13</td>\n",
       "      <td>17</td>\n",
       "      <td>0</td>\n",
       "      <td>5</td>\n",
       "    </tr>\n",
       "    <tr>\n",
       "      <th>302</th>\n",
       "      <td>Wilkes, Annie</td>\n",
       "      <td>10204</td>\n",
       "      <td>0</td>\n",
       "      <td>2</td>\n",
       "      <td>0</td>\n",
       "      <td>5</td>\n",
       "      <td>5</td>\n",
       "      <td>3</td>\n",
       "      <td>0</td>\n",
       "      <td>58062</td>\n",
       "      <td>...</td>\n",
       "      <td>19.0</td>\n",
       "      <td>Google Search</td>\n",
       "      <td>Fully Meets</td>\n",
       "      <td>3.60</td>\n",
       "      <td>5</td>\n",
       "      <td>0</td>\n",
       "      <td>2011-02-06</td>\n",
       "      <td>15</td>\n",
       "      <td>0</td>\n",
       "      <td>9</td>\n",
       "    </tr>\n",
       "    <tr>\n",
       "      <th>...</th>\n",
       "      <td>...</td>\n",
       "      <td>...</td>\n",
       "      <td>...</td>\n",
       "      <td>...</td>\n",
       "      <td>...</td>\n",
       "      <td>...</td>\n",
       "      <td>...</td>\n",
       "      <td>...</td>\n",
       "      <td>...</td>\n",
       "      <td>...</td>\n",
       "      <td>...</td>\n",
       "      <td>...</td>\n",
       "      <td>...</td>\n",
       "      <td>...</td>\n",
       "      <td>...</td>\n",
       "      <td>...</td>\n",
       "      <td>...</td>\n",
       "      <td>...</td>\n",
       "      <td>...</td>\n",
       "      <td>...</td>\n",
       "      <td>...</td>\n",
       "    </tr>\n",
       "    <tr>\n",
       "      <th>233</th>\n",
       "      <td>Roberson, May</td>\n",
       "      <td>10230</td>\n",
       "      <td>0</td>\n",
       "      <td>2</td>\n",
       "      <td>0</td>\n",
       "      <td>5</td>\n",
       "      <td>5</td>\n",
       "      <td>3</td>\n",
       "      <td>0</td>\n",
       "      <td>64971</td>\n",
       "      <td>...</td>\n",
       "      <td>14.0</td>\n",
       "      <td>Google Search</td>\n",
       "      <td>Fully Meets</td>\n",
       "      <td>4.50</td>\n",
       "      <td>4</td>\n",
       "      <td>0</td>\n",
       "      <td>2011-10-22</td>\n",
       "      <td>0</td>\n",
       "      <td>0</td>\n",
       "      <td>10</td>\n",
       "    </tr>\n",
       "    <tr>\n",
       "      <th>292</th>\n",
       "      <td>Voldemort, Lord</td>\n",
       "      <td>10118</td>\n",
       "      <td>1</td>\n",
       "      <td>1</td>\n",
       "      <td>1</td>\n",
       "      <td>4</td>\n",
       "      <td>3</td>\n",
       "      <td>3</td>\n",
       "      <td>0</td>\n",
       "      <td>113999</td>\n",
       "      <td>...</td>\n",
       "      <td>4.0</td>\n",
       "      <td>Employee Referral</td>\n",
       "      <td>Fully Meets</td>\n",
       "      <td>4.33</td>\n",
       "      <td>3</td>\n",
       "      <td>7</td>\n",
       "      <td>2017-02-15</td>\n",
       "      <td>0</td>\n",
       "      <td>0</td>\n",
       "      <td>9</td>\n",
       "    </tr>\n",
       "    <tr>\n",
       "      <th>289</th>\n",
       "      <td>Veera, Abdellah</td>\n",
       "      <td>10014</td>\n",
       "      <td>0</td>\n",
       "      <td>2</td>\n",
       "      <td>1</td>\n",
       "      <td>5</td>\n",
       "      <td>5</td>\n",
       "      <td>4</td>\n",
       "      <td>0</td>\n",
       "      <td>58523</td>\n",
       "      <td>...</td>\n",
       "      <td>20.0</td>\n",
       "      <td>LinkedIn</td>\n",
       "      <td>Exceeds</td>\n",
       "      <td>4.50</td>\n",
       "      <td>5</td>\n",
       "      <td>0</td>\n",
       "      <td>2016-02-01</td>\n",
       "      <td>0</td>\n",
       "      <td>0</td>\n",
       "      <td>15</td>\n",
       "    </tr>\n",
       "    <tr>\n",
       "      <th>212</th>\n",
       "      <td>Patronick, Lucas</td>\n",
       "      <td>10005</td>\n",
       "      <td>0</td>\n",
       "      <td>0</td>\n",
       "      <td>1</td>\n",
       "      <td>5</td>\n",
       "      <td>4</td>\n",
       "      <td>4</td>\n",
       "      <td>1</td>\n",
       "      <td>108987</td>\n",
       "      <td>...</td>\n",
       "      <td>10.0</td>\n",
       "      <td>Diversity Job Fair</td>\n",
       "      <td>Exceeds</td>\n",
       "      <td>5.00</td>\n",
       "      <td>5</td>\n",
       "      <td>3</td>\n",
       "      <td>2015-08-16</td>\n",
       "      <td>0</td>\n",
       "      <td>0</td>\n",
       "      <td>13</td>\n",
       "    </tr>\n",
       "    <tr>\n",
       "      <th>217</th>\n",
       "      <td>Peters, Lauren</td>\n",
       "      <td>10032</td>\n",
       "      <td>1</td>\n",
       "      <td>1</td>\n",
       "      <td>0</td>\n",
       "      <td>5</td>\n",
       "      <td>5</td>\n",
       "      <td>4</td>\n",
       "      <td>0</td>\n",
       "      <td>57954</td>\n",
       "      <td>...</td>\n",
       "      <td>19.0</td>\n",
       "      <td>Indeed</td>\n",
       "      <td>Exceeds</td>\n",
       "      <td>4.20</td>\n",
       "      <td>5</td>\n",
       "      <td>0</td>\n",
       "      <td>2013-01-10</td>\n",
       "      <td>0</td>\n",
       "      <td>0</td>\n",
       "      <td>12</td>\n",
       "    </tr>\n",
       "  </tbody>\n",
       "</table>\n",
       "<p>308 rows × 39 columns</p>\n",
       "</div>"
      ],
      "text/plain": [
       "        Employee_Name  EmpID  MarriedID  MaritalStatusID  GenderID  \\\n",
       "121   Guilianno, Mike  10109          0                0         1   \n",
       "188       Miller, Ned  10298          0                0         1   \n",
       "32   Bunbury, Jessica  10188          1                1         0   \n",
       "216    Perry, Shakira  10171          0                0         0   \n",
       "302     Wilkes, Annie  10204          0                2         0   \n",
       "..                ...    ...        ...              ...       ...   \n",
       "233     Roberson, May  10230          0                2         0   \n",
       "292   Voldemort, Lord  10118          1                1         1   \n",
       "289  Veera, Abdellah   10014          0                2         1   \n",
       "212  Patronick, Lucas  10005          0                0         1   \n",
       "217    Peters, Lauren  10032          1                1         0   \n",
       "\n",
       "     EmpStatusID  DeptID  PerfScoreID  FromDiversityJobFairID  Salary  ...  \\\n",
       "121            5       6            3                       0   71707  ...   \n",
       "188            5       5            1                       0   55800  ...   \n",
       "32             5       6            3                       0   74326  ...   \n",
       "216            5       5            3                       0   45998  ...   \n",
       "302            5       5            3                       0   58062  ...   \n",
       "..           ...     ...          ...                     ...     ...  ...   \n",
       "233            5       5            3                       0   64971  ...   \n",
       "292            4       3            3                       0  113999  ...   \n",
       "289            5       5            4                       0   58523  ...   \n",
       "212            5       4            4                       1  108987  ...   \n",
       "217            5       5            4                       0   57954  ...   \n",
       "\n",
       "     ManagerID   RecruitmentSource PerformanceScore EngagementSurvey  \\\n",
       "121       17.0            LinkedIn      Fully Meets             4.50   \n",
       "188       12.0            LinkedIn              PIP             3.00   \n",
       "32        17.0       Google Search      Fully Meets             3.14   \n",
       "216       11.0            LinkedIn      Fully Meets             3.45   \n",
       "302       19.0       Google Search      Fully Meets             3.60   \n",
       "..         ...                 ...              ...              ...   \n",
       "233       14.0       Google Search      Fully Meets             4.50   \n",
       "292        4.0   Employee Referral      Fully Meets             4.33   \n",
       "289       20.0            LinkedIn          Exceeds             4.50   \n",
       "212       10.0  Diversity Job Fair          Exceeds             5.00   \n",
       "217       19.0              Indeed          Exceeds             4.20   \n",
       "\n",
       "     EmpSatisfaction SpecialProjectsCount  LastPerformanceReview_Date  \\\n",
       "121                5                    0                  2013-02-01   \n",
       "188                2                    0                  2013-01-14   \n",
       "32                 5                    0                  2013-02-10   \n",
       "216                4                    0                  2014-05-13   \n",
       "302                5                    0                  2011-02-06   \n",
       "..               ...                  ...                         ...   \n",
       "233                4                    0                  2011-10-22   \n",
       "292                3                    7                  2017-02-15   \n",
       "289                5                    0                  2016-02-01   \n",
       "212                5                    3                  2015-08-16   \n",
       "217                5                    0                  2013-01-10   \n",
       "\n",
       "    MonthsSinceLastReview DaysLateLast30 Absences  \n",
       "121                    20              0       20  \n",
       "188                    19              6        6  \n",
       "32                     17              1       19  \n",
       "216                    17              0        5  \n",
       "302                    15              0        9  \n",
       "..                    ...            ...      ...  \n",
       "233                     0              0       10  \n",
       "292                     0              0        9  \n",
       "289                     0              0       15  \n",
       "212                     0              0       13  \n",
       "217                     0              0       12  \n",
       "\n",
       "[308 rows x 39 columns]"
      ]
     },
     "execution_count": 26,
     "metadata": {},
     "output_type": "execute_result"
    }
   ],
   "source": [
    "hr.sort_values('MonthsSinceLastReview', ascending=False)"
   ]
  },
  {
   "cell_type": "markdown",
   "id": "7f179932",
   "metadata": {},
   "source": [
    "### Integer data types\n",
    "\n",
    "Now we check if columns with data type float64 are appropriately assigned."
   ]
  },
  {
   "cell_type": "code",
   "execution_count": 27,
   "id": "4ef41805",
   "metadata": {},
   "outputs": [
    {
     "data": {
      "text/html": [
       "<div>\n",
       "<style scoped>\n",
       "    .dataframe tbody tr th:only-of-type {\n",
       "        vertical-align: middle;\n",
       "    }\n",
       "\n",
       "    .dataframe tbody tr th {\n",
       "        vertical-align: top;\n",
       "    }\n",
       "\n",
       "    .dataframe thead th {\n",
       "        text-align: right;\n",
       "    }\n",
       "</style>\n",
       "<table border=\"1\" class=\"dataframe\">\n",
       "  <thead>\n",
       "    <tr style=\"text-align: right;\">\n",
       "      <th></th>\n",
       "      <th>ManagerID</th>\n",
       "      <th>EngagementSurvey</th>\n",
       "    </tr>\n",
       "  </thead>\n",
       "  <tbody>\n",
       "    <tr>\n",
       "      <th>0</th>\n",
       "      <td>22.0</td>\n",
       "      <td>4.60</td>\n",
       "    </tr>\n",
       "    <tr>\n",
       "      <th>1</th>\n",
       "      <td>4.0</td>\n",
       "      <td>4.96</td>\n",
       "    </tr>\n",
       "    <tr>\n",
       "      <th>2</th>\n",
       "      <td>20.0</td>\n",
       "      <td>3.02</td>\n",
       "    </tr>\n",
       "  </tbody>\n",
       "</table>\n",
       "</div>"
      ],
      "text/plain": [
       "   ManagerID  EngagementSurvey\n",
       "0       22.0              4.60\n",
       "1        4.0              4.96\n",
       "2       20.0              3.02"
      ]
     },
     "execution_count": 27,
     "metadata": {},
     "output_type": "execute_result"
    }
   ],
   "source": [
    "hr[['ManagerID', 'EngagementSurvey']].head(3)"
   ]
  },
  {
   "cell_type": "code",
   "execution_count": 28,
   "id": "5b07f217",
   "metadata": {},
   "outputs": [
    {
     "data": {
      "text/plain": [
       "array([22.,  4., 20., 16., 39., 11., 10., 19., 12.,  7., 14., 18., nan,\n",
       "        3.,  2.,  1., 17.,  5., 21.,  6., 15., 13.,  9., 30.])"
      ]
     },
     "execution_count": 28,
     "metadata": {},
     "output_type": "execute_result"
    }
   ],
   "source": [
    "pd.unique(hr.ManagerID)"
   ]
  },
  {
   "cell_type": "code",
   "execution_count": 29,
   "id": "3bec9735",
   "metadata": {},
   "outputs": [
    {
     "data": {
      "text/plain": [
       "array([4.6 , 4.96, 3.02, 4.84, 5.  , 3.04, 4.46, 4.2 , 4.28, 4.4 , 4.5 ,\n",
       "       2.  , 4.8 , 3.5 , 3.39, 3.35, 3.19, 3.14, 4.51, 3.25, 3.84, 4.43,\n",
       "       3.3 , 3.8 , 3.  , 4.3 , 3.58, 4.7 , 4.1 , 4.13, 3.7 , 4.73, 4.12,\n",
       "       4.62, 3.1 , 3.96, 3.79, 1.93, 1.12, 3.01, 2.3 , 3.88, 3.4 , 4.11,\n",
       "       4.77, 4.52, 2.9 , 2.1 , 4.  , 3.13, 1.56, 1.2 , 4.76, 3.66, 3.73,\n",
       "       4.24, 3.97, 3.9 , 4.61, 4.63, 4.64, 4.17, 3.6 , 3.03, 4.48, 3.24,\n",
       "       3.72, 2.34, 3.99, 3.75, 3.07, 4.83, 3.49, 3.38, 3.65, 4.78, 4.9 ,\n",
       "       4.88, 4.53, 3.18, 4.65, 3.08, 3.93, 4.18, 4.37, 2.39, 3.81, 4.29,\n",
       "       2.33, 4.25, 3.89, 3.54, 2.4 , 3.45, 4.16, 3.17, 4.15, 3.98, 4.36,\n",
       "       3.69, 4.94, 2.6 , 3.51, 3.31, 4.81, 3.32, 4.68, 3.27, 1.81, 4.21,\n",
       "       2.44, 2.81, 4.33, 3.21, 3.11, 2.5 , 3.42, 4.07, 3.2 ])"
      ]
     },
     "execution_count": 29,
     "metadata": {},
     "output_type": "execute_result"
    }
   ],
   "source": [
    "pd.unique(hr.EngagementSurvey)"
   ]
  },
  {
   "cell_type": "markdown",
   "id": "66d133c3",
   "metadata": {},
   "source": [
    "Only ManagerID seems to be incorrectly data typed, so we will fix that one."
   ]
  },
  {
   "cell_type": "code",
   "execution_count": 30,
   "id": "91a26655",
   "metadata": {},
   "outputs": [
    {
     "data": {
      "text/plain": [
       "0    22\n",
       "1     4\n",
       "2    20\n",
       "3    16\n",
       "4    39\n",
       "Name: ManagerID, dtype: Int64"
      ]
     },
     "execution_count": 30,
     "metadata": {},
     "output_type": "execute_result"
    }
   ],
   "source": [
    "hr.ManagerID = hr.ManagerID.astype('Int64')\n",
    "\n",
    "hr.ManagerID.head(5)"
   ]
  },
  {
   "cell_type": "markdown",
   "id": "ea23a2e0",
   "metadata": {},
   "source": [
    "### Cleaning categoricals and their ID column counterparts\n",
    "\n",
    "**MarriedStatusID and MaritalDesc**\n",
    "\n",
    "According to https://rpubs.com/rhuebner/hrd_cb_v14, MaritalStatusID should match MaritalDesc.\n",
    "\n",
    "Using a pivot, we confirmed this is the case, and they align to MarriedID too."
   ]
  },
  {
   "cell_type": "code",
   "execution_count": 31,
   "id": "ac12a4da",
   "metadata": {},
   "outputs": [
    {
     "data": {
      "text/plain": [
       "MarriedID  MaritalStatusID  MaritalDesc\n",
       "0          0                Single         136\n",
       "           2                Divorced        30\n",
       "           3                Separated       12\n",
       "           4                Widowed          7\n",
       "1          1                Married        123\n",
       "Name: EmpID, dtype: int64"
      ]
     },
     "execution_count": 31,
     "metadata": {},
     "output_type": "execute_result"
    }
   ],
   "source": [
    "hr[['EmpID', 'MarriedID', 'MaritalStatusID', 'MaritalDesc']].groupby(['MarriedID','MaritalStatusID', 'MaritalDesc']).EmpID.count()"
   ]
  },
  {
   "cell_type": "markdown",
   "id": "45008eb8",
   "metadata": {},
   "source": [
    "**EmpStatusID and EmploymentStatus**\n",
    "\n",
    "According to https://rpubs.com/rhuebner/hrd_cb_v14, EmpStatusID should match EmploymentStatus.\n",
    "\n",
    "But this does not appear to be the case, as per pivot below:"
   ]
  },
  {
   "cell_type": "code",
   "execution_count": 32,
   "id": "8454f13e",
   "metadata": {},
   "outputs": [
    {
     "data": {
      "text/plain": [
       "Termd  EmpStatusID  EmploymentStatus        TermReason                      \n",
       "0      1            Active                  N/A-StillEmployed                   182\n",
       "       2            Active                  N/A-StillEmployed                    11\n",
       "       3            Active                  N/A-StillEmployed                    14\n",
       "1      1            Terminated for Cause    no-call, no-show                      1\n",
       "       4            Terminated for Cause    Learned that he is a gangster         1\n",
       "                                            attendance                            5\n",
       "                                            gross misconduct                      1\n",
       "                                            no-call, no-show                      2\n",
       "                                            performance                           3\n",
       "       5            Voluntarily Terminated  Another position                     20\n",
       "                                            attendance                            1\n",
       "                                            career change                         9\n",
       "                                            hours                                 8\n",
       "                                            maternity leave - did not return      3\n",
       "                                            medical issues                        3\n",
       "                                            military                              4\n",
       "                                            more money                           11\n",
       "                                            performance                           1\n",
       "                                            relocation out of area                5\n",
       "                                            retiring                              4\n",
       "                                            return to school                      5\n",
       "                                            unhappy                              14\n",
       "Name: EmpID, dtype: int64"
      ]
     },
     "execution_count": 32,
     "metadata": {},
     "output_type": "execute_result"
    }
   ],
   "source": [
    "hr[['EmpID', 'Termd', 'EmpStatusID', 'EmploymentStatus', 'TermReason']].groupby(['Termd', 'EmpStatusID', 'EmploymentStatus', 'TermReason']).EmpID.count()"
   ]
  },
  {
   "cell_type": "markdown",
   "id": "5f879d41",
   "metadata": {},
   "source": [
    "So we will clean EmpStatusID for consistency.\n",
    "\n",
    "The reason we are making Active 0 and Terminated 1, is to align it with Termd."
   ]
  },
  {
   "cell_type": "code",
   "execution_count": 33,
   "id": "325f0471",
   "metadata": {},
   "outputs": [
    {
     "data": {
      "text/plain": [
       "Termd  EmpStatusID  EmploymentStatus      \n",
       "0      0            Active                    207\n",
       "1      1            Terminated for Cause       13\n",
       "       2            Voluntarily Terminated     88\n",
       "Name: EmpID, dtype: int64"
      ]
     },
     "execution_count": 33,
     "metadata": {},
     "output_type": "execute_result"
    }
   ],
   "source": [
    "hr.loc[hr.EmploymentStatus == 'Active', 'EmpStatusID'] = 0\n",
    "hr.loc[hr.EmploymentStatus == 'Terminated for Cause', 'EmpStatusID'] = 1\n",
    "hr.loc[hr.EmploymentStatus == 'Voluntarily Terminated', 'EmpStatusID'] = 2\n",
    "\n",
    "hr[['EmpID', 'Termd', 'EmpStatusID', 'EmploymentStatus']].groupby(['Termd', 'EmpStatusID', 'EmploymentStatus']).EmpID.count()"
   ]
  },
  {
   "cell_type": "markdown",
   "id": "45398dd0",
   "metadata": {},
   "source": [
    "**GenderID and Sex**\n",
    "\n",
    "Sex and GenderID appear to match, so for consistency we will rename the GenderID column."
   ]
  },
  {
   "cell_type": "code",
   "execution_count": 34,
   "id": "23323611",
   "metadata": {},
   "outputs": [
    {
     "data": {
      "text/plain": [
       "Sex  GenderID\n",
       "F    0           174\n",
       "M    1           134\n",
       "Name: EmpID, dtype: int64"
      ]
     },
     "execution_count": 34,
     "metadata": {},
     "output_type": "execute_result"
    }
   ],
   "source": [
    "hr[['EmpID', 'Sex', 'GenderID']].groupby(['Sex', 'GenderID']).EmpID.count()"
   ]
  },
  {
   "cell_type": "code",
   "execution_count": 35,
   "id": "4166e336",
   "metadata": {},
   "outputs": [],
   "source": [
    "hr.rename(columns={'GenderID':'SexID'}, inplace=True)"
   ]
  },
  {
   "cell_type": "markdown",
   "id": "a2cd74bf",
   "metadata": {},
   "source": [
    "**DeptID and Department**\n",
    "\n",
    "This data is also inconsistent, and needs to be cleaned, as this pivot shows.\n",
    "\n",
    "There are some records where Department has a lot of trailing spaces e.g. \"Production       \"."
   ]
  },
  {
   "cell_type": "code",
   "execution_count": 36,
   "id": "1bd81b8f",
   "metadata": {},
   "outputs": [
    {
     "data": {
      "text/plain": [
       "DeptID  Department          \n",
       "1       Admin Offices             9\n",
       "        Software Engineering      1\n",
       "2       Executive Office          1\n",
       "3       IT/IS                    49\n",
       "4       Software Engineering     10\n",
       "5       Production              208\n",
       "6       Production                1\n",
       "        Sales                    29\n",
       "Name: EmpID, dtype: int64"
      ]
     },
     "execution_count": 36,
     "metadata": {},
     "output_type": "execute_result"
    }
   ],
   "source": [
    "hr[['EmpID', 'DeptID', 'Department']].groupby(['DeptID', 'Department']).EmpID.count()"
   ]
  },
  {
   "cell_type": "code",
   "execution_count": 37,
   "id": "04740b31",
   "metadata": {},
   "outputs": [
    {
     "data": {
      "text/plain": [
       "DeptID  Department          \n",
       "1       Admin Offices             9\n",
       "2       Executive Office          1\n",
       "3       IT/IS                    49\n",
       "4       Software Engineering     11\n",
       "5       Production              209\n",
       "6       Sales                    29\n",
       "Name: EmpID, dtype: int64"
      ]
     },
     "execution_count": 37,
     "metadata": {},
     "output_type": "execute_result"
    }
   ],
   "source": [
    "hr.loc[hr.Department == 'Software Engineering', 'DeptID'] = 4\n",
    "hr.loc[hr.Department == 'Production       ', 'DeptID'] = 5\n",
    "hr.loc[hr.Department == 'Sales', 'DeptID'] = 6\n",
    "\n",
    "hr[['EmpID', 'DeptID', 'Department']].groupby(['DeptID', 'Department']).EmpID.count()"
   ]
  },
  {
   "cell_type": "markdown",
   "id": "6e699c4c",
   "metadata": {},
   "source": [
    "**PerfScoreID and PerformanceScore**\n",
    "\n",
    "A PerformanceScore of PIP should mean Performance Improvement Plan i.e. lowest rank.\n",
    "\n",
    "So we will update that value to make it clearer, as well as clean up discrepant values."
   ]
  },
  {
   "cell_type": "code",
   "execution_count": 38,
   "id": "0a4a5c54",
   "metadata": {},
   "outputs": [
    {
     "data": {
      "text/plain": [
       "PerfScoreID  PerformanceScore \n",
       "1            Fully Meets            1\n",
       "             PIP                   12\n",
       "2            Needs Improvement     18\n",
       "3            Fully Meets          240\n",
       "4            Exceeds               37\n",
       "Name: EmpID, dtype: int64"
      ]
     },
     "execution_count": 38,
     "metadata": {},
     "output_type": "execute_result"
    }
   ],
   "source": [
    "hr[['EmpID', 'PerfScoreID', 'PerformanceScore']].groupby(['PerfScoreID', 'PerformanceScore']).EmpID.count()"
   ]
  },
  {
   "cell_type": "code",
   "execution_count": 39,
   "id": "2ac9d917",
   "metadata": {},
   "outputs": [
    {
     "data": {
      "text/plain": [
       "PerfScoreID  PerformanceScore            \n",
       "1            Performance Improvement Plan     12\n",
       "2            Needs Improvement                18\n",
       "3            Fully Meets                     241\n",
       "4            Exceeds                          37\n",
       "Name: EmpID, dtype: int64"
      ]
     },
     "execution_count": 39,
     "metadata": {},
     "output_type": "execute_result"
    }
   ],
   "source": [
    "hr.loc[hr.PerformanceScore == 'Fully Meets', 'PerfScoreID'] = 3\n",
    "hr.loc[hr.PerformanceScore == 'PIP', 'PerformanceScore'] = 'Performance Improvement Plan'\n",
    "\n",
    "hr[['EmpID', 'PerfScoreID', 'PerformanceScore']].groupby(['PerfScoreID', 'PerformanceScore']).EmpID.count()"
   ]
  },
  {
   "cell_type": "markdown",
   "id": "2d94514b",
   "metadata": {},
   "source": [
    "**PositionID and Position**\n",
    "\n",
    "There are quite a few amendmens that need to be done here."
   ]
  },
  {
   "cell_type": "code",
   "execution_count": 40,
   "id": "a9884895",
   "metadata": {},
   "outputs": [
    {
     "data": {
      "text/plain": [
       "PositionID  Position                    \n",
       "1           Accountant I                      3\n",
       "2           Administrative Assistant          3\n",
       "3           Area Sales Manager               25\n",
       "4           BI Developer                      4\n",
       "5           BI Director                       1\n",
       "6           CIO                               1\n",
       "7           Data Architect                    1\n",
       "8           Database Administrator            4\n",
       "9           Data Analyst                      7\n",
       "            Data Analyst                      1\n",
       "10          Director of Operations            1\n",
       "11          Director of Sales                 1\n",
       "12          IT Director                       1\n",
       "13          IT Manager - DB                   2\n",
       "            IT Manager - Infra                1\n",
       "            IT Manager - Support              1\n",
       "14          IT Support                        8\n",
       "15          Network Engineer                  5\n",
       "16          President & CEO                   1\n",
       "17          Production Manager                1\n",
       "18          Production Manager               13\n",
       "19          Production Technician I         137\n",
       "20          Production Technician II         57\n",
       "21          Sales Manager                     3\n",
       "22          Senior BI Developer               3\n",
       "23          Shared Services Manager           1\n",
       "            Software Engineer                 1\n",
       "24          Software Engineer                 9\n",
       "25          Software Engineering Manager      1\n",
       "26          Sr. Accountant                    2\n",
       "27          Sr. DBA                           2\n",
       "28          Sr. Network Engineer              5\n",
       "29          Principal Data Architect          1\n",
       "30          Enterprise Architect              1\n",
       "Name: EmpID, dtype: int64"
      ]
     },
     "execution_count": 40,
     "metadata": {},
     "output_type": "execute_result"
    }
   ],
   "source": [
    "hr[['EmpID', 'PositionID', 'Position']].groupby(['PositionID', 'Position']).EmpID.count()"
   ]
  },
  {
   "cell_type": "code",
   "execution_count": 41,
   "id": "74a05cb5",
   "metadata": {},
   "outputs": [
    {
     "data": {
      "text/plain": [
       "PositionID  Position                    \n",
       "1           Accountant I                      3\n",
       "2           Administrative Assistant          3\n",
       "3           Area Sales Manager               25\n",
       "4           BI Developer                      4\n",
       "5           BI Director                       1\n",
       "6           CIO                               1\n",
       "7           Data Architect                    1\n",
       "8           Database Administrator            4\n",
       "9           Data Analyst                      8\n",
       "10          Director of Operations            1\n",
       "11          Director of Sales                 1\n",
       "12          IT Director                       1\n",
       "13          IT Manager - DB                   2\n",
       "            IT Manager - Infra                1\n",
       "            IT Manager - Support              1\n",
       "14          IT Support                        8\n",
       "15          Network Engineer                  5\n",
       "16          President & CEO                   1\n",
       "17          Production Manager               14\n",
       "18          Production Technician I         137\n",
       "19          Production Technician II         57\n",
       "20          Sales Manager                     3\n",
       "21          Senior BI Developer               3\n",
       "22          Shared Services Manager           1\n",
       "23          Software Engineer                10\n",
       "24          Software Engineering Manager      1\n",
       "25          Sr. Accountant                    2\n",
       "26          Sr. DBA                           2\n",
       "27          Sr. Network Engineer              5\n",
       "28          Principal Data Architect          1\n",
       "29          Enterprise Architect              1\n",
       "Name: EmpID, dtype: int64"
      ]
     },
     "execution_count": 41,
     "metadata": {},
     "output_type": "execute_result"
    }
   ],
   "source": [
    "hr.loc[hr.Position == 'Data Analyst ', 'Position'] = 'Data Analyst'\n",
    "hr.loc[hr.Position == 'Production Manager', 'PositionID'] = 17\n",
    "hr.loc[hr.Position == 'Production Technician I', 'PositionID'] = 18\n",
    "hr.loc[hr.Position == 'Production Technician II', 'PositionID'] = 19\n",
    "hr.loc[hr.Position == 'Sales Manager', 'PositionID'] = 20\n",
    "hr.loc[hr.Position == 'Senior BI Developer', 'PositionID'] = 21\n",
    "hr.loc[hr.Position == 'Shared Services Manager', 'PositionID'] = 22\n",
    "hr.loc[hr.Position == 'Software Engineer', 'PositionID'] = 23\n",
    "hr.loc[hr.Position == 'Software Engineering Manager', 'PositionID'] = 24\n",
    "hr.loc[hr.Position == 'Sr. Accountant', 'PositionID'] = 25\n",
    "hr.loc[hr.Position == 'Sr. DBA', 'PositionID'] = 26\n",
    "hr.loc[hr.Position == 'Sr. Network Engineer', 'PositionID'] = 27\n",
    "hr.loc[hr.Position == 'Principal Data Architect', 'PositionID'] = 28\n",
    "hr.loc[hr.Position == 'Enterprise Architect', 'PositionID'] = 29\n",
    "\n",
    "\n",
    "\n",
    "hr[['EmpID', 'PositionID', 'Position']].groupby(['PositionID', 'Position']).EmpID.count()"
   ]
  },
  {
   "cell_type": "markdown",
   "id": "a382b9aa",
   "metadata": {},
   "source": [
    "**Add a column to separate people managers from individual contributors based on Position**\n",
    "\n",
    "We will make this a binary field and name it PositionTypeID with these values/meanings:\n",
    " - 0 = People manager\n",
    " - 1 = Individual contributor"
   ]
  },
  {
   "cell_type": "code",
   "execution_count": 51,
   "id": "fad65768",
   "metadata": {},
   "outputs": [],
   "source": [
    "hr.insert(11, \"PositionTypeID\", 1, allow_duplicates=True)\n",
    "\n",
    "for i, row in hr.iterrows():\n",
    "    if row['PositionID'] == 5 or row['PositionID'] == 6 or row['PositionID'] == 10 or row['PositionID'] == 11 or row['PositionID'] == 12 or row['PositionID'] == 13 or row['PositionID'] == 16 or row['PositionID'] == 17 or row['PositionID'] == 20 or row['PositionID'] == 22 or row['PositionID'] == 24:\n",
    "        hr.loc[i, 'PositionTypeID'] = 0"
   ]
  },
  {
   "cell_type": "code",
   "execution_count": 52,
   "id": "f672d70c",
   "metadata": {},
   "outputs": [
    {
     "data": {
      "text/plain": [
       "PositionTypeID\n",
       "0     29\n",
       "1    279\n",
       "Name: EmpID, dtype: int64"
      ]
     },
     "execution_count": 52,
     "metadata": {},
     "output_type": "execute_result"
    }
   ],
   "source": [
    "hr[['EmpID', 'PositionTypeID']].groupby(['PositionTypeID']).EmpID.count()"
   ]
  },
  {
   "cell_type": "markdown",
   "id": "7ceff211",
   "metadata": {},
   "source": [
    "**RaceDesc and HispanicLatino**\n",
    "\n",
    "There is a mix of upper and lowercase for the HispanicLatino column, so we will amend these."
   ]
  },
  {
   "cell_type": "code",
   "execution_count": 42,
   "id": "834295c9",
   "metadata": {},
   "outputs": [
    {
     "data": {
      "text/plain": [
       "RaceDesc                          HispanicLatino\n",
       "American Indian or Alaska Native  No                  3\n",
       "Asian                             No                 29\n",
       "Black or African American         No                 71\n",
       "                                  Yes                 8\n",
       "Hispanic                          yes                 1\n",
       "Two or more races                 No                 10\n",
       "                                  Yes                 1\n",
       "White                             No                166\n",
       "                                  Yes                18\n",
       "                                  no                  1\n",
       "Name: EmpID, dtype: int64"
      ]
     },
     "execution_count": 42,
     "metadata": {},
     "output_type": "execute_result"
    }
   ],
   "source": [
    "hr[['EmpID', 'RaceDesc', 'HispanicLatino']].groupby(['RaceDesc', 'HispanicLatino']).EmpID.count()"
   ]
  },
  {
   "cell_type": "code",
   "execution_count": 43,
   "id": "be919e04",
   "metadata": {},
   "outputs": [
    {
     "data": {
      "text/plain": [
       "HispanicLatino\n",
       "No     280\n",
       "Yes     28\n",
       "Name: EmpID, dtype: int64"
      ]
     },
     "execution_count": 43,
     "metadata": {},
     "output_type": "execute_result"
    }
   ],
   "source": [
    "hr.loc[hr.HispanicLatino == 'yes', 'HispanicLatino'] = 'Yes'\n",
    "hr.loc[hr.HispanicLatino == 'no', 'HispanicLatino'] = 'No'\n",
    "\n",
    "hr[['EmpID', 'HispanicLatino']].groupby(['HispanicLatino']).EmpID.count()"
   ]
  },
  {
   "cell_type": "markdown",
   "id": "9582eac4",
   "metadata": {},
   "source": [
    "**ManagerID and ManagerName**\n",
    "\n",
    "If we recall, EmpIDs are 5 digit figures, but the ManagerIDs are up to 2 digit figures only, meaning there is no join possible here as-is i.e. the Manager IDs are arbitrary.\n",
    "\n",
    "Also, 2 manager names (Brandon R. LeBlanc & Michael Albert) have each been associated to 2 different manager IDs, so we'll assume they are one person and the IDs need to be merged.\n",
    "\n",
    "But the biggest highlight is that the ManagerNames are also arbitrary as some of them do not exist as employee names, and there is one called \"Board of Directors\"."
   ]
  },
  {
   "cell_type": "code",
   "execution_count": 44,
   "id": "687ed0d0",
   "metadata": {},
   "outputs": [
    {
     "data": {
      "text/plain": [
       "ManagerName         ManagerID\n",
       "Alex Sweetwater     10            9\n",
       "Amy Dunn            11           21\n",
       "Board of Directors  9             2\n",
       "Brandon R. LeBlanc  1             6\n",
       "                    3             1\n",
       "Brannon Miller      12           22\n",
       "Brian Champaigne    13            8\n",
       "David Stanley       14           21\n",
       "Debra Houlihan      15            3\n",
       "Elijiah Gray        16           22\n",
       "Eric Dougall        6             4\n",
       "Janet King          2            19\n",
       "Jennifer Zamora     5             7\n",
       "John Smith          17           13\n",
       "Kelley Spirea       18           22\n",
       "Ketsia Liebig       19           21\n",
       "Kissy Sullivan      20           22\n",
       "Lynn Daneault       21           12\n",
       "Michael Albert      22           21\n",
       "                    30            1\n",
       "Peter Monroe        7            14\n",
       "Simon Roup          4            16\n",
       "Webster Butler      39           13\n",
       "Name: EmpID, dtype: int64"
      ]
     },
     "execution_count": 44,
     "metadata": {},
     "output_type": "execute_result"
    }
   ],
   "source": [
    "hr[['EmpID', 'ManagerName', 'ManagerID']].groupby(['ManagerName', 'ManagerID']).EmpID.count()"
   ]
  },
  {
   "cell_type": "code",
   "execution_count": 45,
   "id": "90d9f889",
   "metadata": {},
   "outputs": [
    {
     "data": {
      "text/plain": [
       "ManagerName         ManagerID\n",
       "Alex Sweetwater     10            9\n",
       "Amy Dunn            11           21\n",
       "Board of Directors  9             2\n",
       "Brandon R. LeBlanc  1             7\n",
       "Brannon Miller      12           22\n",
       "Brian Champaigne    13            8\n",
       "David Stanley       14           21\n",
       "Debra Houlihan      15            3\n",
       "Elijiah Gray        16           22\n",
       "Eric Dougall        6             4\n",
       "Janet King          2            19\n",
       "Jennifer Zamora     5             7\n",
       "John Smith          17           13\n",
       "Kelley Spirea       18           22\n",
       "Ketsia Liebig       19           21\n",
       "Kissy Sullivan      20           22\n",
       "Lynn Daneault       21           12\n",
       "Michael Albert      22           22\n",
       "Peter Monroe        7            14\n",
       "Simon Roup          4            16\n",
       "Webster Butler      39           13\n",
       "Name: EmpID, dtype: int64"
      ]
     },
     "execution_count": 45,
     "metadata": {},
     "output_type": "execute_result"
    }
   ],
   "source": [
    "hr.loc[hr.ManagerName == 'Brandon R. LeBlanc', 'ManagerID'] = 1\n",
    "hr.loc[hr.ManagerName == 'Michael Albert', 'ManagerID'] = 22\n",
    "\n",
    "hr[['EmpID', 'ManagerName', 'ManagerID']].groupby(['ManagerName', 'ManagerID']).EmpID.count()"
   ]
  },
  {
   "cell_type": "markdown",
   "id": "60dfc3bb",
   "metadata": {},
   "source": [
    "Checking the values in other fields that do not need amendment...\n",
    "\n",
    "**FromDiversityJobFairID and RecruitmentSource**"
   ]
  },
  {
   "cell_type": "code",
   "execution_count": 46,
   "id": "e09d0cc1",
   "metadata": {
    "scrolled": false
   },
   "outputs": [
    {
     "data": {
      "text/plain": [
       "FromDiversityJobFairID  RecruitmentSource      \n",
       "0                       CareerBuilder              22\n",
       "                        Employee Referral          30\n",
       "                        Google Search              49\n",
       "                        Indeed                     86\n",
       "                        LinkedIn                   76\n",
       "                        On-line Web application     1\n",
       "                        Other                       2\n",
       "                        Website                    13\n",
       "1                       Diversity Job Fair         29\n",
       "Name: EmpID, dtype: int64"
      ]
     },
     "execution_count": 46,
     "metadata": {},
     "output_type": "execute_result"
    }
   ],
   "source": [
    "hr[['EmpID', 'FromDiversityJobFairID', 'RecruitmentSource']].groupby(['FromDiversityJobFairID', 'RecruitmentSource']).EmpID.count()"
   ]
  },
  {
   "cell_type": "markdown",
   "id": "48b2d991",
   "metadata": {},
   "source": [
    "**CitizenDesc**"
   ]
  },
  {
   "cell_type": "code",
   "execution_count": 47,
   "id": "3a62cc6f",
   "metadata": {},
   "outputs": [
    {
     "data": {
      "text/plain": [
       "CitizenDesc\n",
       "Eligible NonCitizen     12\n",
       "Non-Citizen              4\n",
       "US Citizen             292\n",
       "Name: EmpID, dtype: int64"
      ]
     },
     "execution_count": 47,
     "metadata": {},
     "output_type": "execute_result"
    }
   ],
   "source": [
    "hr[['EmpID', 'CitizenDesc']].groupby(['CitizenDesc']).EmpID.count()"
   ]
  },
  {
   "cell_type": "markdown",
   "id": "c33d2c99",
   "metadata": {},
   "source": [
    "**EngagementSurvey**"
   ]
  },
  {
   "cell_type": "code",
   "execution_count": 48,
   "id": "75f7dd7a",
   "metadata": {},
   "outputs": [
    {
     "data": {
      "text/plain": [
       "EngagementSurvey\n",
       "1.12     1\n",
       "1.20     1\n",
       "1.56     1\n",
       "1.81     1\n",
       "1.93     1\n",
       "        ..\n",
       "4.88     1\n",
       "4.90     1\n",
       "4.94     1\n",
       "4.96     2\n",
       "5.00    56\n",
       "Name: EmpID, Length: 119, dtype: int64"
      ]
     },
     "execution_count": 48,
     "metadata": {},
     "output_type": "execute_result"
    }
   ],
   "source": [
    "hr[['EmpID', 'EngagementSurvey']].groupby(['EngagementSurvey']).EmpID.count()"
   ]
  },
  {
   "cell_type": "markdown",
   "id": "3f1edea6",
   "metadata": {},
   "source": [
    "**EmpSatisfaction**"
   ]
  },
  {
   "cell_type": "code",
   "execution_count": 50,
   "id": "a1936ddc",
   "metadata": {},
   "outputs": [
    {
     "data": {
      "text/plain": [
       "EmpSatisfaction\n",
       "1      2\n",
       "2      9\n",
       "3    108\n",
       "4     92\n",
       "5     97\n",
       "Name: EmpID, dtype: int64"
      ]
     },
     "execution_count": 50,
     "metadata": {},
     "output_type": "execute_result"
    }
   ],
   "source": [
    "hr[['EmpID', 'EmpSatisfaction']].groupby(['EmpSatisfaction']).EmpID.count()"
   ]
  },
  {
   "cell_type": "markdown",
   "id": "ed6e08aa",
   "metadata": {},
   "source": [
    "## Data exploration\n",
    "\n",
    "Insights we want to know that could translate to business action and benefit:\n",
    "\n",
    "**Good staff member qualities**\n",
    "* High _**PerformanceScore**_ (need to factor in recent hires would be expected to be low performers).\n",
    "* Honesty and positivity in _**EmpSatisfaction**_ (not necessarily a high value).\n",
    "* Low _**Absences**_ (need to split by sex to account for maternity and other special considerations).\n",
    "* Low _**DaysLateLast30**_.\n",
    "  - We also need to understand how this field works: If this is the last 30 days before termination/resignation, or last 30 days from the current date. Why? Because there is a risk of misrepresentation in the latter case, e.g. those who resigned say for example 6 months ago but were late towards the end of their term. Does this value reflect that? Or will it show 0?\n",
    "\n",
    "**Revising current HR practices**\n",
    "\n",
    "These could be used to assess whether or not it is worth continuing to invest resources in certain HR activities.\n",
    "\n",
    "* Check the effectiveness of the outsourced _**EngagementSurvey**_ in assessing employee quality.\n",
    "* Check the effectiveness of the internal _**EmpSatisfaction**_ survey in reflecting employee behaviour (e.g. performance) and intention (e.g. resignation).\n",
    "* Check if the number of months between _**LastPerformanceReview_Date**_ and termination date (i.e. _**MonthsSinceLastReview**_) are correlated with _**EmpStatusID**_ and _**EmploymentStatus**_. e.g. does high recency lead to increased or decreased chance of resignation?\n",
    "* Check the effectiveness of _**PerfScoreID**_ and _**PerformanceScore**_ in reflecting other employee attributes.\n",
    "* Cluster _**RecruitmentSource**_ to find correlation with poor performers.\n",
    "* Check if diversity job fair hires (i.e. _**FromDiversityJobFairID**_) have proportionately high acceptance and retention rates.\n",
    "* Check if any potential biases could be impacting _**PerformanceScore**_, e.g. false positives due to relational biases by number of projects handled or staff manager.\n",
    "\n",
    "**Retained staff**\n",
    "* Create clusters for:\n",
    "  - High performing retained staff\n",
    "  - High performing resigned staff\n",
    "  - Then test retained staff using ML built on resigned staff as training data, to predict probability of resignation for current staff.\n",
    "* Create either a rating or clustering system to identify generally good staff members.\n",
    "  - Consider long-term employees who may be causing negativity or poor performance within their teams/departments, versus short-term employees who have a positive effect.\n",
    "\n",
    "**Resigned and terminated staff**\n",
    "* Find company-based factors for staff turnover and poor performance.\n",
    "  - _**Salary**_\n",
    "  - _**PositionID**_ e.g. the nature of the role is fundamentally too difficult.\n",
    "  - _**Department**_ e.g. the possibility of a negative envionment.\n",
    "  - _**SpecialProjectsCount**_ e.g. does too much or little of this correlate?\n",
    "  - _**ManagerID**_\n",
    "\n",
    "**Demographic analysis**\n",
    "\n",
    "Check if demographic factors are correlated with employee performance and turnover. Consider creating clusters to show what types of people best work in specific departments, roles, and role types.\n",
    "  - _**MaritalDesc**_\n",
    "  - _**State**_\n",
    "  - _**Zip**_\n",
    "  - _**Age**_\n",
    "  - _**Sex**_\n",
    "  - _**MaritalDesc**_\n",
    "  - _**CitizenDesc**_\n",
    "  - _**HispanicLatino**_\n",
    "  - _**RaceDesc**_"
   ]
  },
  {
   "cell_type": "code",
   "execution_count": null,
   "id": "bf7080c2",
   "metadata": {},
   "outputs": [],
   "source": []
  },
  {
   "cell_type": "code",
   "execution_count": null,
   "id": "9b1df47e",
   "metadata": {},
   "outputs": [],
   "source": []
  },
  {
   "cell_type": "code",
   "execution_count": null,
   "id": "3e55eb80",
   "metadata": {},
   "outputs": [],
   "source": []
  },
  {
   "cell_type": "code",
   "execution_count": null,
   "id": "a3e2a1d4",
   "metadata": {},
   "outputs": [],
   "source": []
  },
  {
   "cell_type": "code",
   "execution_count": null,
   "id": "ac355f9b",
   "metadata": {},
   "outputs": [],
   "source": []
  },
  {
   "cell_type": "code",
   "execution_count": null,
   "id": "f1ab83ab",
   "metadata": {},
   "outputs": [],
   "source": []
  },
  {
   "cell_type": "code",
   "execution_count": null,
   "id": "9a3c1256",
   "metadata": {},
   "outputs": [],
   "source": []
  },
  {
   "cell_type": "code",
   "execution_count": null,
   "id": "9be29531",
   "metadata": {},
   "outputs": [],
   "source": []
  },
  {
   "cell_type": "code",
   "execution_count": null,
   "id": "e573d83b",
   "metadata": {},
   "outputs": [],
   "source": []
  },
  {
   "cell_type": "markdown",
   "id": "ca1f3224",
   "metadata": {},
   "source": [
    "Notes from: https://rpubs.com/rhuebner/hrd_cb_v14\n",
    "* **PerfScoreID**\tPerformance Score code that matches the employee’s most recent performance score\tInteger\n",
    "* **FromDiversityJobFairID**\tWas the employee sourced from the Diversity job fair? 1 or 0 for yes or no\t\n",
    "* **RecruitmentSource** The name of the recruitment source where the employee was recruited from\tText\n",
    "* **PerformanceScore** Performance Score text/category (Fully Meets, Partially Meets, PIP, Exceeds)\tText\n",
    "* **EngagementSurvey** Results from the last engagement survey, managed by our external partner\tFloat\n",
    "* **EmpSatisfaction** A basic satisfaction score between 1 and 5, as reported on a recent employee satisfaction survey\tInteger\n",
    "* **SpecialProjectsCount** The number of special projects that the employee worked on during the last 6 months\tInteger\n",
    "* **DaysLateLast30** The number of times that the employee was late to work during the last 30 days\tInteger\n",
    "* **Absences** The number of times the employee was absent from work.\tInteger\n"
   ]
  },
  {
   "cell_type": "code",
   "execution_count": null,
   "id": "470abb87",
   "metadata": {},
   "outputs": [],
   "source": [
    "hr.plot.scatter('PerfScoreID', 'PerfScoreID')"
   ]
  },
  {
   "cell_type": "code",
   "execution_count": 47,
   "id": "c3b3f858",
   "metadata": {},
   "outputs": [
    {
     "data": {
      "text/plain": [
       "0      4\n",
       "1      3\n",
       "2      3\n",
       "3      3\n",
       "4      3\n",
       "      ..\n",
       "306    3\n",
       "307    1\n",
       "308    4\n",
       "309    3\n",
       "310    3\n",
       "Name: PerfScoreID, Length: 308, dtype: int64"
      ]
     },
     "execution_count": 47,
     "metadata": {},
     "output_type": "execute_result"
    }
   ],
   "source": [
    "hr.PerfScoreID"
   ]
  },
  {
   "cell_type": "code",
   "execution_count": 48,
   "id": "878f5337",
   "metadata": {},
   "outputs": [
    {
     "name": "stdout",
     "output_type": "stream",
     "text": [
      "<class 'pandas.core.frame.DataFrame'>\n",
      "Int64Index: 308 entries, 0 to 310\n",
      "Data columns (total 39 columns):\n",
      " #   Column                      Non-Null Count  Dtype  \n",
      "---  ------                      --------------  -----  \n",
      " 0   Employee_Name               308 non-null    object \n",
      " 1   EmpID                       308 non-null    int64  \n",
      " 2   MarriedID                   308 non-null    int64  \n",
      " 3   MaritalStatusID             308 non-null    int64  \n",
      " 4   SexID                       308 non-null    int64  \n",
      " 5   EmpStatusID                 308 non-null    int64  \n",
      " 6   DeptID                      308 non-null    int64  \n",
      " 7   PerfScoreID                 308 non-null    int64  \n",
      " 8   FromDiversityJobFairID      308 non-null    int64  \n",
      " 9   Salary                      308 non-null    int64  \n",
      " 10  Termd                       308 non-null    int64  \n",
      " 11  PositionID                  308 non-null    int64  \n",
      " 12  Position                    308 non-null    object \n",
      " 13  State                       308 non-null    object \n",
      " 14  Zip                         308 non-null    int64  \n",
      " 15  DOB                         308 non-null    object \n",
      " 16  Age                         308 non-null    int64  \n",
      " 17  Sex                         308 non-null    object \n",
      " 18  MaritalDesc                 308 non-null    object \n",
      " 19  CitizenDesc                 308 non-null    object \n",
      " 20  HispanicLatino              308 non-null    object \n",
      " 21  RaceDesc                    308 non-null    object \n",
      " 22  DateofHire                  308 non-null    object \n",
      " 23  DateofTermination           101 non-null    object \n",
      " 24  MonthsofService             308 non-null    object \n",
      " 25  TermReason                  308 non-null    object \n",
      " 26  EmploymentStatus            308 non-null    object \n",
      " 27  Department                  308 non-null    object \n",
      " 28  ManagerName                 308 non-null    object \n",
      " 29  ManagerID                   300 non-null    Int64  \n",
      " 30  RecruitmentSource           308 non-null    object \n",
      " 31  PerformanceScore            308 non-null    object \n",
      " 32  EngagementSurvey            308 non-null    float64\n",
      " 33  EmpSatisfaction             308 non-null    int64  \n",
      " 34  SpecialProjectsCount        308 non-null    int64  \n",
      " 35  LastPerformanceReview_Date  308 non-null    object \n",
      " 36  MonthsSinceLastReview       308 non-null    object \n",
      " 37  DaysLateLast30              308 non-null    int64  \n",
      " 38  Absences                    308 non-null    int64  \n",
      "dtypes: Int64(1), float64(1), int64(17), object(20)\n",
      "memory usage: 104.7+ KB\n"
     ]
    }
   ],
   "source": [
    "hr.info()"
   ]
  },
  {
   "cell_type": "code",
   "execution_count": null,
   "id": "4ec53202",
   "metadata": {},
   "outputs": [],
   "source": []
  },
  {
   "cell_type": "code",
   "execution_count": null,
   "id": "f90d7234",
   "metadata": {},
   "outputs": [],
   "source": []
  },
  {
   "cell_type": "code",
   "execution_count": null,
   "id": "f912825c",
   "metadata": {},
   "outputs": [],
   "source": []
  },
  {
   "cell_type": "code",
   "execution_count": null,
   "id": "79d69694",
   "metadata": {},
   "outputs": [],
   "source": []
  },
  {
   "cell_type": "code",
   "execution_count": 111,
   "id": "39b1600f",
   "metadata": {},
   "outputs": [],
   "source": [
    "hr_resigned = hr.query('EmpStatusID == 2')\n",
    "hr_terminated = hr.query('EmpStatusID == 1')"
   ]
  },
  {
   "cell_type": "code",
   "execution_count": 112,
   "id": "853555f5",
   "metadata": {},
   "outputs": [
    {
     "data": {
      "text/plain": [
       "{'whiskers': [<matplotlib.lines.Line2D at 0x2c8d4e56e10>,\n",
       "  <matplotlib.lines.Line2D at 0x2c8d4e57950>],\n",
       " 'caps': [<matplotlib.lines.Line2D at 0x2c8d4e4aa50>,\n",
       "  <matplotlib.lines.Line2D at 0x2c8d4e68910>],\n",
       " 'boxes': [<matplotlib.lines.Line2D at 0x2c8d4e56650>],\n",
       " 'medians': [<matplotlib.lines.Line2D at 0x2c8d4e692d0>],\n",
       " 'fliers': [<matplotlib.lines.Line2D at 0x2c8d4e69b10>],\n",
       " 'means': []}"
      ]
     },
     "execution_count": 112,
     "metadata": {},
     "output_type": "execute_result"
    },
    {
     "data": {
      "image/png": "[encoded data removed]",
      "text/plain": [
       "<Figure size 640x480 with 1 Axes>"
      ]
     },
     "metadata": {},
     "output_type": "display_data"
    }
   ],
   "source": [
    "plt.boxplot(hr_terminated.MonthsofService)"
   ]
  },
  {
   "cell_type": "code",
   "execution_count": 113,
   "id": "d0d76235",
   "metadata": {},
   "outputs": [
    {
     "data": {
      "text/plain": [
       "{'whiskers': [<matplotlib.lines.Line2D at 0x2c8d4c47d10>,\n",
       "  <matplotlib.lines.Line2D at 0x2c8d4c45590>],\n",
       " 'caps': [<matplotlib.lines.Line2D at 0x2c8d3ea5a50>,\n",
       "  <matplotlib.lines.Line2D at 0x2c8d3ea4d90>],\n",
       " 'boxes': [<matplotlib.lines.Line2D at 0x2c8d4c0ea10>],\n",
       " 'medians': [<matplotlib.lines.Line2D at 0x2c8d3ea4510>],\n",
       " 'fliers': [<matplotlib.lines.Line2D at 0x2c8d4d24f50>],\n",
       " 'means': []}"
      ]
     },
     "execution_count": 113,
     "metadata": {},
     "output_type": "execute_result"
    },
    {
     "data": {
      "image/png": "[encoded data removed]",
      "text/plain": [
       "<Figure size 640x480 with 1 Axes>"
      ]
     },
     "metadata": {},
     "output_type": "display_data"
    }
   ],
   "source": [
    "plt.boxplot(hr_resigned.MonthsofService)"
   ]
  },
  {
   "cell_type": "code",
   "execution_count": 114,
   "id": "24621557",
   "metadata": {},
   "outputs": [
    {
     "data": {
      "text/plain": [
       "<AxesSubplot: xlabel='Age', ylabel='DaysLateLast30'>"
      ]
     },
     "execution_count": 114,
     "metadata": {},
     "output_type": "execute_result"
    },
    {
     "data": {
      "image/png": "[encoded data removed]",
      "text/plain": [
       "<Figure size 640x480 with 1 Axes>"
      ]
     },
     "metadata": {},
     "output_type": "display_data"
    }
   ],
   "source": [
    "hr.plot.scatter('Age', 'DaysLateLast30')"
   ]
  },
  {
   "cell_type": "code",
   "execution_count": 117,
   "id": "6ab41c5a",
   "metadata": {},
   "outputs": [
    {
     "data": {
      "text/plain": [
       "<AxesSubplot: xlabel='DaysLateLast30', ylabel='Absences'>"
      ]
     },
     "execution_count": 117,
     "metadata": {},
     "output_type": "execute_result"
    },
    {
     "data": {
      "image/png": "[encoded data removed]",
      "text/plain": [
       "<Figure size 640x480 with 1 Axes>"
      ]
     },
     "metadata": {},
     "output_type": "display_data"
    }
   ],
   "source": [
    "hr.plot.scatter('DaysLateLast30', 'Absences')"
   ]
  },
  {
   "cell_type": "code",
   "execution_count": null,
   "id": "f4fafe16",
   "metadata": {},
   "outputs": [],
   "source": []
  },
  {
   "cell_type": "code",
   "execution_count": null,
   "id": "34393e23",
   "metadata": {},
   "outputs": [],
   "source": []
  },
  {
   "cell_type": "code",
   "execution_count": null,
   "id": "0dc0b6c1",
   "metadata": {},
   "outputs": [],
   "source": []
  },
  {
   "cell_type": "code",
   "execution_count": null,
   "id": "44d3086f",
   "metadata": {},
   "outputs": [],
   "source": []
  },
  {
   "cell_type": "code",
   "execution_count": null,
   "id": "25113aeb",
   "metadata": {},
   "outputs": [],
   "source": []
  }
 ],
 "metadata": {
  "kernelspec": {
   "display_name": "Python 3 (ipykernel)",
   "language": "python",
   "name": "python3"
  },
  "language_info": {
   "codemirror_mode": {
    "name": "ipython",
    "version": 3
   },
   "file_extension": ".py",
   "mimetype": "text/x-python",
   "name": "python",
   "nbconvert_exporter": "python",
   "pygments_lexer": "ipython3",
   "version": "3.11.0"
  }
 },
 "nbformat": 4,
 "nbformat_minor": 5
}
